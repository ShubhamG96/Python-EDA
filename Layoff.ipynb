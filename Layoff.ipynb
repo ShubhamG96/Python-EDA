{
 "cells": [
  {
   "cell_type": "code",
   "execution_count": 209,
   "metadata": {},
   "outputs": [],
   "source": [
    "import numpy as np\n",
    "import pandas as pd\n",
    "import matplotlib \n",
    "import matplotlib.pyplot as plt\n",
    "import seaborn as sns\n",
    "import warnings"
   ]
  },
  {
   "cell_type": "code",
   "execution_count": 210,
   "metadata": {},
   "outputs": [],
   "source": [
    "data=pd.read_csv(\"layoffs.csv\")"
   ]
  },
  {
   "cell_type": "code",
   "execution_count": 211,
   "metadata": {},
   "outputs": [
    {
     "data": {
      "text/html": [
       "<div>\n",
       "<style scoped>\n",
       "    .dataframe tbody tr th:only-of-type {\n",
       "        vertical-align: middle;\n",
       "    }\n",
       "\n",
       "    .dataframe tbody tr th {\n",
       "        vertical-align: top;\n",
       "    }\n",
       "\n",
       "    .dataframe thead th {\n",
       "        text-align: right;\n",
       "    }\n",
       "</style>\n",
       "<table border=\"1\" class=\"dataframe\">\n",
       "  <thead>\n",
       "    <tr style=\"text-align: right;\">\n",
       "      <th></th>\n",
       "      <th>company</th>\n",
       "      <th>location</th>\n",
       "      <th>industry</th>\n",
       "      <th>total_laid_off</th>\n",
       "      <th>percentage_laid_off</th>\n",
       "      <th>date</th>\n",
       "      <th>stage</th>\n",
       "      <th>country</th>\n",
       "      <th>funds_raised</th>\n",
       "    </tr>\n",
       "  </thead>\n",
       "  <tbody>\n",
       "    <tr>\n",
       "      <td>0</td>\n",
       "      <td>Ola</td>\n",
       "      <td>Bengaluru</td>\n",
       "      <td>Transportation</td>\n",
       "      <td>200.0</td>\n",
       "      <td>NaN</td>\n",
       "      <td>2023-01-13</td>\n",
       "      <td>Series J</td>\n",
       "      <td>India</td>\n",
       "      <td>5000.0</td>\n",
       "    </tr>\n",
       "    <tr>\n",
       "      <td>1</td>\n",
       "      <td>Lending Club</td>\n",
       "      <td>SF Bay Area</td>\n",
       "      <td>Finance</td>\n",
       "      <td>225.0</td>\n",
       "      <td>0.14</td>\n",
       "      <td>2023-01-12</td>\n",
       "      <td>IPO</td>\n",
       "      <td>United States</td>\n",
       "      <td>392.0</td>\n",
       "    </tr>\n",
       "    <tr>\n",
       "      <td>2</td>\n",
       "      <td>SmartNews</td>\n",
       "      <td>Tokyo</td>\n",
       "      <td>Media</td>\n",
       "      <td>120.0</td>\n",
       "      <td>0.13</td>\n",
       "      <td>2023-01-12</td>\n",
       "      <td>Series F</td>\n",
       "      <td>United States</td>\n",
       "      <td>410.0</td>\n",
       "    </tr>\n",
       "    <tr>\n",
       "      <td>3</td>\n",
       "      <td>Pier</td>\n",
       "      <td>Sao Paulo</td>\n",
       "      <td>Finance</td>\n",
       "      <td>111.0</td>\n",
       "      <td>0.39</td>\n",
       "      <td>2023-01-12</td>\n",
       "      <td>Series B</td>\n",
       "      <td>Brazil</td>\n",
       "      <td>42.0</td>\n",
       "    </tr>\n",
       "    <tr>\n",
       "      <td>4</td>\n",
       "      <td>Blockchain.com</td>\n",
       "      <td>London</td>\n",
       "      <td>Crypto</td>\n",
       "      <td>110.0</td>\n",
       "      <td>0.28</td>\n",
       "      <td>2023-01-12</td>\n",
       "      <td>Series D</td>\n",
       "      <td>United Kingdom</td>\n",
       "      <td>490.0</td>\n",
       "    </tr>\n",
       "  </tbody>\n",
       "</table>\n",
       "</div>"
      ],
      "text/plain": [
       "          company     location        industry  total_laid_off  \\\n",
       "0             Ola    Bengaluru  Transportation           200.0   \n",
       "1    Lending Club  SF Bay Area         Finance           225.0   \n",
       "2       SmartNews        Tokyo           Media           120.0   \n",
       "3            Pier    Sao Paulo         Finance           111.0   \n",
       "4  Blockchain.com       London          Crypto           110.0   \n",
       "\n",
       "   percentage_laid_off        date     stage         country  funds_raised  \n",
       "0                  NaN  2023-01-13  Series J           India        5000.0  \n",
       "1                 0.14  2023-01-12       IPO   United States         392.0  \n",
       "2                 0.13  2023-01-12  Series F   United States         410.0  \n",
       "3                 0.39  2023-01-12  Series B          Brazil          42.0  \n",
       "4                 0.28  2023-01-12  Series D  United Kingdom         490.0  "
      ]
     },
     "execution_count": 211,
     "metadata": {},
     "output_type": "execute_result"
    }
   ],
   "source": [
    "data.head()"
   ]
  },
  {
   "cell_type": "code",
   "execution_count": 212,
   "metadata": {},
   "outputs": [
    {
     "data": {
      "text/html": [
       "<div>\n",
       "<style scoped>\n",
       "    .dataframe tbody tr th:only-of-type {\n",
       "        vertical-align: middle;\n",
       "    }\n",
       "\n",
       "    .dataframe tbody tr th {\n",
       "        vertical-align: top;\n",
       "    }\n",
       "\n",
       "    .dataframe thead th {\n",
       "        text-align: right;\n",
       "    }\n",
       "</style>\n",
       "<table border=\"1\" class=\"dataframe\">\n",
       "  <thead>\n",
       "    <tr style=\"text-align: right;\">\n",
       "      <th></th>\n",
       "      <th>company</th>\n",
       "      <th>location</th>\n",
       "      <th>industry</th>\n",
       "      <th>total_laid_off</th>\n",
       "      <th>percentage_laid_off</th>\n",
       "      <th>date</th>\n",
       "      <th>stage</th>\n",
       "      <th>country</th>\n",
       "      <th>funds_raised</th>\n",
       "    </tr>\n",
       "  </thead>\n",
       "  <tbody>\n",
       "    <tr>\n",
       "      <td>1941</td>\n",
       "      <td>HopSkipDrive</td>\n",
       "      <td>Los Angeles</td>\n",
       "      <td>Transportation</td>\n",
       "      <td>8.0</td>\n",
       "      <td>0.10</td>\n",
       "      <td>2020-03-13</td>\n",
       "      <td>Unknown</td>\n",
       "      <td>United States</td>\n",
       "      <td>45.0</td>\n",
       "    </tr>\n",
       "    <tr>\n",
       "      <td>1942</td>\n",
       "      <td>Panda Squad</td>\n",
       "      <td>SF Bay Area</td>\n",
       "      <td>Consumer</td>\n",
       "      <td>6.0</td>\n",
       "      <td>0.75</td>\n",
       "      <td>2020-03-13</td>\n",
       "      <td>Seed</td>\n",
       "      <td>United States</td>\n",
       "      <td>1.0</td>\n",
       "    </tr>\n",
       "    <tr>\n",
       "      <td>1943</td>\n",
       "      <td>Tamara Mellon</td>\n",
       "      <td>Los Angeles</td>\n",
       "      <td>Retail</td>\n",
       "      <td>20.0</td>\n",
       "      <td>0.40</td>\n",
       "      <td>2020-03-12</td>\n",
       "      <td>Series C</td>\n",
       "      <td>United States</td>\n",
       "      <td>90.0</td>\n",
       "    </tr>\n",
       "    <tr>\n",
       "      <td>1944</td>\n",
       "      <td>EasyPost</td>\n",
       "      <td>Salt Lake City</td>\n",
       "      <td>Logistics</td>\n",
       "      <td>75.0</td>\n",
       "      <td>NaN</td>\n",
       "      <td>2020-03-11</td>\n",
       "      <td>Series A</td>\n",
       "      <td>United States</td>\n",
       "      <td>12.0</td>\n",
       "    </tr>\n",
       "    <tr>\n",
       "      <td>1945</td>\n",
       "      <td>Homebound</td>\n",
       "      <td>SF Bay Area</td>\n",
       "      <td>Real Estate</td>\n",
       "      <td>NaN</td>\n",
       "      <td>NaN</td>\n",
       "      <td>NaN</td>\n",
       "      <td>Unknown</td>\n",
       "      <td>United States</td>\n",
       "      <td>128.0</td>\n",
       "    </tr>\n",
       "  </tbody>\n",
       "</table>\n",
       "</div>"
      ],
      "text/plain": [
       "            company        location        industry  total_laid_off  \\\n",
       "1941   HopSkipDrive     Los Angeles  Transportation             8.0   \n",
       "1942    Panda Squad     SF Bay Area        Consumer             6.0   \n",
       "1943  Tamara Mellon     Los Angeles          Retail            20.0   \n",
       "1944       EasyPost  Salt Lake City       Logistics            75.0   \n",
       "1945      Homebound     SF Bay Area     Real Estate             NaN   \n",
       "\n",
       "      percentage_laid_off        date     stage        country  funds_raised  \n",
       "1941                 0.10  2020-03-13   Unknown  United States          45.0  \n",
       "1942                 0.75  2020-03-13      Seed  United States           1.0  \n",
       "1943                 0.40  2020-03-12  Series C  United States          90.0  \n",
       "1944                  NaN  2020-03-11  Series A  United States          12.0  \n",
       "1945                  NaN         NaN   Unknown  United States         128.0  "
      ]
     },
     "execution_count": 212,
     "metadata": {},
     "output_type": "execute_result"
    }
   ],
   "source": [
    "data.tail()"
   ]
  },
  {
   "cell_type": "code",
   "execution_count": 213,
   "metadata": {},
   "outputs": [
    {
     "data": {
      "text/plain": [
       "(1946, 9)"
      ]
     },
     "execution_count": 213,
     "metadata": {},
     "output_type": "execute_result"
    }
   ],
   "source": [
    "data.shape"
   ]
  },
  {
   "cell_type": "code",
   "execution_count": 214,
   "metadata": {},
   "outputs": [
    {
     "name": "stdout",
     "output_type": "stream",
     "text": [
      "<class 'pandas.core.frame.DataFrame'>\n",
      "RangeIndex: 1946 entries, 0 to 1945\n",
      "Data columns (total 9 columns):\n",
      "company                1946 non-null object\n",
      "location               1946 non-null object\n",
      "industry               1946 non-null object\n",
      "total_laid_off         1350 non-null float64\n",
      "percentage_laid_off    1315 non-null float64\n",
      "date                   1945 non-null object\n",
      "stage                  1942 non-null object\n",
      "country                1946 non-null object\n",
      "funds_raised           1796 non-null float64\n",
      "dtypes: float64(3), object(6)\n",
      "memory usage: 137.0+ KB\n"
     ]
    }
   ],
   "source": [
    "data.info()"
   ]
  },
  {
   "cell_type": "code",
   "execution_count": 215,
   "metadata": {},
   "outputs": [
    {
     "data": {
      "text/html": [
       "<div>\n",
       "<style scoped>\n",
       "    .dataframe tbody tr th:only-of-type {\n",
       "        vertical-align: middle;\n",
       "    }\n",
       "\n",
       "    .dataframe tbody tr th {\n",
       "        vertical-align: top;\n",
       "    }\n",
       "\n",
       "    .dataframe thead th {\n",
       "        text-align: right;\n",
       "    }\n",
       "</style>\n",
       "<table border=\"1\" class=\"dataframe\">\n",
       "  <thead>\n",
       "    <tr style=\"text-align: right;\">\n",
       "      <th></th>\n",
       "      <th>company</th>\n",
       "      <th>location</th>\n",
       "      <th>industry</th>\n",
       "      <th>total_laid_off</th>\n",
       "      <th>percentage_laid_off</th>\n",
       "      <th>date</th>\n",
       "      <th>stage</th>\n",
       "      <th>country</th>\n",
       "      <th>funds_raised</th>\n",
       "    </tr>\n",
       "  </thead>\n",
       "  <tbody>\n",
       "    <tr>\n",
       "      <td>count</td>\n",
       "      <td>1946</td>\n",
       "      <td>1946</td>\n",
       "      <td>1946</td>\n",
       "      <td>1350.000000</td>\n",
       "      <td>1315.000000</td>\n",
       "      <td>1945</td>\n",
       "      <td>1942</td>\n",
       "      <td>1946</td>\n",
       "      <td>1796.000000</td>\n",
       "    </tr>\n",
       "    <tr>\n",
       "      <td>unique</td>\n",
       "      <td>1601</td>\n",
       "      <td>167</td>\n",
       "      <td>29</td>\n",
       "      <td>NaN</td>\n",
       "      <td>NaN</td>\n",
       "      <td>435</td>\n",
       "      <td>16</td>\n",
       "      <td>56</td>\n",
       "      <td>NaN</td>\n",
       "    </tr>\n",
       "    <tr>\n",
       "      <td>top</td>\n",
       "      <td>Loft</td>\n",
       "      <td>SF Bay Area</td>\n",
       "      <td>Finance</td>\n",
       "      <td>NaN</td>\n",
       "      <td>NaN</td>\n",
       "      <td>2020-04-02</td>\n",
       "      <td>Unknown</td>\n",
       "      <td>United States</td>\n",
       "      <td>NaN</td>\n",
       "    </tr>\n",
       "    <tr>\n",
       "      <td>freq</td>\n",
       "      <td>5</td>\n",
       "      <td>515</td>\n",
       "      <td>243</td>\n",
       "      <td>NaN</td>\n",
       "      <td>NaN</td>\n",
       "      <td>27</td>\n",
       "      <td>325</td>\n",
       "      <td>1283</td>\n",
       "      <td>NaN</td>\n",
       "    </tr>\n",
       "    <tr>\n",
       "      <td>mean</td>\n",
       "      <td>NaN</td>\n",
       "      <td>NaN</td>\n",
       "      <td>NaN</td>\n",
       "      <td>202.960741</td>\n",
       "      <td>0.268089</td>\n",
       "      <td>NaN</td>\n",
       "      <td>NaN</td>\n",
       "      <td>NaN</td>\n",
       "      <td>842.108739</td>\n",
       "    </tr>\n",
       "    <tr>\n",
       "      <td>std</td>\n",
       "      <td>NaN</td>\n",
       "      <td>NaN</td>\n",
       "      <td>NaN</td>\n",
       "      <td>620.859658</td>\n",
       "      <td>0.260117</td>\n",
       "      <td>NaN</td>\n",
       "      <td>NaN</td>\n",
       "      <td>NaN</td>\n",
       "      <td>6060.030270</td>\n",
       "    </tr>\n",
       "    <tr>\n",
       "      <td>min</td>\n",
       "      <td>NaN</td>\n",
       "      <td>NaN</td>\n",
       "      <td>NaN</td>\n",
       "      <td>3.000000</td>\n",
       "      <td>0.000000</td>\n",
       "      <td>NaN</td>\n",
       "      <td>NaN</td>\n",
       "      <td>NaN</td>\n",
       "      <td>0.000000</td>\n",
       "    </tr>\n",
       "    <tr>\n",
       "      <td>25%</td>\n",
       "      <td>NaN</td>\n",
       "      <td>NaN</td>\n",
       "      <td>NaN</td>\n",
       "      <td>34.000000</td>\n",
       "      <td>0.100000</td>\n",
       "      <td>NaN</td>\n",
       "      <td>NaN</td>\n",
       "      <td>NaN</td>\n",
       "      <td>46.000000</td>\n",
       "    </tr>\n",
       "    <tr>\n",
       "      <td>50%</td>\n",
       "      <td>NaN</td>\n",
       "      <td>NaN</td>\n",
       "      <td>NaN</td>\n",
       "      <td>70.000000</td>\n",
       "      <td>0.180000</td>\n",
       "      <td>NaN</td>\n",
       "      <td>NaN</td>\n",
       "      <td>NaN</td>\n",
       "      <td>145.000000</td>\n",
       "    </tr>\n",
       "    <tr>\n",
       "      <td>75%</td>\n",
       "      <td>NaN</td>\n",
       "      <td>NaN</td>\n",
       "      <td>NaN</td>\n",
       "      <td>150.000000</td>\n",
       "      <td>0.300000</td>\n",
       "      <td>NaN</td>\n",
       "      <td>NaN</td>\n",
       "      <td>NaN</td>\n",
       "      <td>409.000000</td>\n",
       "    </tr>\n",
       "    <tr>\n",
       "      <td>max</td>\n",
       "      <td>NaN</td>\n",
       "      <td>NaN</td>\n",
       "      <td>NaN</td>\n",
       "      <td>11000.000000</td>\n",
       "      <td>1.000000</td>\n",
       "      <td>NaN</td>\n",
       "      <td>NaN</td>\n",
       "      <td>NaN</td>\n",
       "      <td>121900.000000</td>\n",
       "    </tr>\n",
       "  </tbody>\n",
       "</table>\n",
       "</div>"
      ],
      "text/plain": [
       "       company     location industry  total_laid_off  percentage_laid_off  \\\n",
       "count     1946         1946     1946     1350.000000          1315.000000   \n",
       "unique    1601          167       29             NaN                  NaN   \n",
       "top       Loft  SF Bay Area  Finance             NaN                  NaN   \n",
       "freq         5          515      243             NaN                  NaN   \n",
       "mean       NaN          NaN      NaN      202.960741             0.268089   \n",
       "std        NaN          NaN      NaN      620.859658             0.260117   \n",
       "min        NaN          NaN      NaN        3.000000             0.000000   \n",
       "25%        NaN          NaN      NaN       34.000000             0.100000   \n",
       "50%        NaN          NaN      NaN       70.000000             0.180000   \n",
       "75%        NaN          NaN      NaN      150.000000             0.300000   \n",
       "max        NaN          NaN      NaN    11000.000000             1.000000   \n",
       "\n",
       "              date    stage        country   funds_raised  \n",
       "count         1945     1942           1946    1796.000000  \n",
       "unique         435       16             56            NaN  \n",
       "top     2020-04-02  Unknown  United States            NaN  \n",
       "freq            27      325           1283            NaN  \n",
       "mean           NaN      NaN            NaN     842.108739  \n",
       "std            NaN      NaN            NaN    6060.030270  \n",
       "min            NaN      NaN            NaN       0.000000  \n",
       "25%            NaN      NaN            NaN      46.000000  \n",
       "50%            NaN      NaN            NaN     145.000000  \n",
       "75%            NaN      NaN            NaN     409.000000  \n",
       "max            NaN      NaN            NaN  121900.000000  "
      ]
     },
     "execution_count": 215,
     "metadata": {},
     "output_type": "execute_result"
    }
   ],
   "source": [
    "data.describe(include='all')"
   ]
  },
  {
   "cell_type": "code",
   "execution_count": 216,
   "metadata": {},
   "outputs": [
    {
     "data": {
      "text/plain": [
       "Index(['company', 'location', 'industry', 'total_laid_off',\n",
       "       'percentage_laid_off', 'date', 'stage', 'country', 'funds_raised'],\n",
       "      dtype='object')"
      ]
     },
     "execution_count": 216,
     "metadata": {},
     "output_type": "execute_result"
    }
   ],
   "source": [
    "data.columns"
   ]
  },
  {
   "cell_type": "markdown",
   "metadata": {},
   "source": [
    "# # Data Cleaning and Preparing"
   ]
  },
  {
   "cell_type": "code",
   "execution_count": 217,
   "metadata": {},
   "outputs": [
    {
     "data": {
      "text/html": [
       "<div>\n",
       "<style scoped>\n",
       "    .dataframe tbody tr th:only-of-type {\n",
       "        vertical-align: middle;\n",
       "    }\n",
       "\n",
       "    .dataframe tbody tr th {\n",
       "        vertical-align: top;\n",
       "    }\n",
       "\n",
       "    .dataframe thead th {\n",
       "        text-align: right;\n",
       "    }\n",
       "</style>\n",
       "<table border=\"1\" class=\"dataframe\">\n",
       "  <thead>\n",
       "    <tr style=\"text-align: right;\">\n",
       "      <th></th>\n",
       "      <th>company</th>\n",
       "      <th>location</th>\n",
       "      <th>industry</th>\n",
       "      <th>total_laid_off</th>\n",
       "      <th>percentage_laid_off</th>\n",
       "      <th>date</th>\n",
       "      <th>stage</th>\n",
       "      <th>country</th>\n",
       "      <th>funds_raised</th>\n",
       "    </tr>\n",
       "  </thead>\n",
       "  <tbody>\n",
       "    <tr>\n",
       "      <td>1088</td>\n",
       "      <td>Cazoo</td>\n",
       "      <td>London</td>\n",
       "      <td>Transportation</td>\n",
       "      <td>750.0</td>\n",
       "      <td>0.15</td>\n",
       "      <td>2022-06-07</td>\n",
       "      <td>IPO</td>\n",
       "      <td>United Kingdom</td>\n",
       "      <td>2000.0</td>\n",
       "    </tr>\n",
       "  </tbody>\n",
       "</table>\n",
       "</div>"
      ],
      "text/plain": [
       "     company location        industry  total_laid_off  percentage_laid_off  \\\n",
       "1088   Cazoo   London  Transportation           750.0                 0.15   \n",
       "\n",
       "            date stage         country  funds_raised  \n",
       "1088  2022-06-07   IPO  United Kingdom        2000.0  "
      ]
     },
     "execution_count": 217,
     "metadata": {},
     "output_type": "execute_result"
    }
   ],
   "source": [
    "data[data.duplicated()]"
   ]
  },
  {
   "cell_type": "code",
   "execution_count": 218,
   "metadata": {},
   "outputs": [
    {
     "data": {
      "text/html": [
       "<div>\n",
       "<style scoped>\n",
       "    .dataframe tbody tr th:only-of-type {\n",
       "        vertical-align: middle;\n",
       "    }\n",
       "\n",
       "    .dataframe tbody tr th {\n",
       "        vertical-align: top;\n",
       "    }\n",
       "\n",
       "    .dataframe thead th {\n",
       "        text-align: right;\n",
       "    }\n",
       "</style>\n",
       "<table border=\"1\" class=\"dataframe\">\n",
       "  <thead>\n",
       "    <tr style=\"text-align: right;\">\n",
       "      <th></th>\n",
       "      <th>company</th>\n",
       "      <th>location</th>\n",
       "      <th>industry</th>\n",
       "      <th>total_laid_off</th>\n",
       "      <th>percentage_laid_off</th>\n",
       "      <th>date</th>\n",
       "      <th>stage</th>\n",
       "      <th>country</th>\n",
       "      <th>funds_raised</th>\n",
       "    </tr>\n",
       "  </thead>\n",
       "  <tbody>\n",
       "    <tr>\n",
       "      <td>0</td>\n",
       "      <td>Ola</td>\n",
       "      <td>Bengaluru</td>\n",
       "      <td>Transportation</td>\n",
       "      <td>200.0</td>\n",
       "      <td>NaN</td>\n",
       "      <td>2023-01-13</td>\n",
       "      <td>Series J</td>\n",
       "      <td>India</td>\n",
       "      <td>5000.0</td>\n",
       "    </tr>\n",
       "    <tr>\n",
       "      <td>1</td>\n",
       "      <td>Lending Club</td>\n",
       "      <td>SF Bay Area</td>\n",
       "      <td>Finance</td>\n",
       "      <td>225.0</td>\n",
       "      <td>0.14</td>\n",
       "      <td>2023-01-12</td>\n",
       "      <td>IPO</td>\n",
       "      <td>United States</td>\n",
       "      <td>392.0</td>\n",
       "    </tr>\n",
       "    <tr>\n",
       "      <td>2</td>\n",
       "      <td>SmartNews</td>\n",
       "      <td>Tokyo</td>\n",
       "      <td>Media</td>\n",
       "      <td>120.0</td>\n",
       "      <td>0.13</td>\n",
       "      <td>2023-01-12</td>\n",
       "      <td>Series F</td>\n",
       "      <td>United States</td>\n",
       "      <td>410.0</td>\n",
       "    </tr>\n",
       "    <tr>\n",
       "      <td>3</td>\n",
       "      <td>Pier</td>\n",
       "      <td>Sao Paulo</td>\n",
       "      <td>Finance</td>\n",
       "      <td>111.0</td>\n",
       "      <td>0.39</td>\n",
       "      <td>2023-01-12</td>\n",
       "      <td>Series B</td>\n",
       "      <td>Brazil</td>\n",
       "      <td>42.0</td>\n",
       "    </tr>\n",
       "    <tr>\n",
       "      <td>4</td>\n",
       "      <td>Blockchain.com</td>\n",
       "      <td>London</td>\n",
       "      <td>Crypto</td>\n",
       "      <td>110.0</td>\n",
       "      <td>0.28</td>\n",
       "      <td>2023-01-12</td>\n",
       "      <td>Series D</td>\n",
       "      <td>United Kingdom</td>\n",
       "      <td>490.0</td>\n",
       "    </tr>\n",
       "    <tr>\n",
       "      <td>...</td>\n",
       "      <td>...</td>\n",
       "      <td>...</td>\n",
       "      <td>...</td>\n",
       "      <td>...</td>\n",
       "      <td>...</td>\n",
       "      <td>...</td>\n",
       "      <td>...</td>\n",
       "      <td>...</td>\n",
       "      <td>...</td>\n",
       "    </tr>\n",
       "    <tr>\n",
       "      <td>1941</td>\n",
       "      <td>HopSkipDrive</td>\n",
       "      <td>Los Angeles</td>\n",
       "      <td>Transportation</td>\n",
       "      <td>8.0</td>\n",
       "      <td>0.10</td>\n",
       "      <td>2020-03-13</td>\n",
       "      <td>Unknown</td>\n",
       "      <td>United States</td>\n",
       "      <td>45.0</td>\n",
       "    </tr>\n",
       "    <tr>\n",
       "      <td>1942</td>\n",
       "      <td>Panda Squad</td>\n",
       "      <td>SF Bay Area</td>\n",
       "      <td>Consumer</td>\n",
       "      <td>6.0</td>\n",
       "      <td>0.75</td>\n",
       "      <td>2020-03-13</td>\n",
       "      <td>Seed</td>\n",
       "      <td>United States</td>\n",
       "      <td>1.0</td>\n",
       "    </tr>\n",
       "    <tr>\n",
       "      <td>1943</td>\n",
       "      <td>Tamara Mellon</td>\n",
       "      <td>Los Angeles</td>\n",
       "      <td>Retail</td>\n",
       "      <td>20.0</td>\n",
       "      <td>0.40</td>\n",
       "      <td>2020-03-12</td>\n",
       "      <td>Series C</td>\n",
       "      <td>United States</td>\n",
       "      <td>90.0</td>\n",
       "    </tr>\n",
       "    <tr>\n",
       "      <td>1944</td>\n",
       "      <td>EasyPost</td>\n",
       "      <td>Salt Lake City</td>\n",
       "      <td>Logistics</td>\n",
       "      <td>75.0</td>\n",
       "      <td>NaN</td>\n",
       "      <td>2020-03-11</td>\n",
       "      <td>Series A</td>\n",
       "      <td>United States</td>\n",
       "      <td>12.0</td>\n",
       "    </tr>\n",
       "    <tr>\n",
       "      <td>1945</td>\n",
       "      <td>Homebound</td>\n",
       "      <td>SF Bay Area</td>\n",
       "      <td>Real Estate</td>\n",
       "      <td>NaN</td>\n",
       "      <td>NaN</td>\n",
       "      <td>NaN</td>\n",
       "      <td>Unknown</td>\n",
       "      <td>United States</td>\n",
       "      <td>128.0</td>\n",
       "    </tr>\n",
       "  </tbody>\n",
       "</table>\n",
       "<p>1945 rows × 9 columns</p>\n",
       "</div>"
      ],
      "text/plain": [
       "             company        location        industry  total_laid_off  \\\n",
       "0                Ola       Bengaluru  Transportation           200.0   \n",
       "1       Lending Club     SF Bay Area         Finance           225.0   \n",
       "2          SmartNews           Tokyo           Media           120.0   \n",
       "3               Pier       Sao Paulo         Finance           111.0   \n",
       "4     Blockchain.com          London          Crypto           110.0   \n",
       "...              ...             ...             ...             ...   \n",
       "1941    HopSkipDrive     Los Angeles  Transportation             8.0   \n",
       "1942     Panda Squad     SF Bay Area        Consumer             6.0   \n",
       "1943   Tamara Mellon     Los Angeles          Retail            20.0   \n",
       "1944        EasyPost  Salt Lake City       Logistics            75.0   \n",
       "1945       Homebound     SF Bay Area     Real Estate             NaN   \n",
       "\n",
       "      percentage_laid_off        date     stage         country  funds_raised  \n",
       "0                     NaN  2023-01-13  Series J           India        5000.0  \n",
       "1                    0.14  2023-01-12       IPO   United States         392.0  \n",
       "2                    0.13  2023-01-12  Series F   United States         410.0  \n",
       "3                    0.39  2023-01-12  Series B          Brazil          42.0  \n",
       "4                    0.28  2023-01-12  Series D  United Kingdom         490.0  \n",
       "...                   ...         ...       ...             ...           ...  \n",
       "1941                 0.10  2020-03-13   Unknown   United States          45.0  \n",
       "1942                 0.75  2020-03-13      Seed   United States           1.0  \n",
       "1943                 0.40  2020-03-12  Series C   United States          90.0  \n",
       "1944                  NaN  2020-03-11  Series A   United States          12.0  \n",
       "1945                  NaN         NaN   Unknown   United States         128.0  \n",
       "\n",
       "[1945 rows x 9 columns]"
      ]
     },
     "execution_count": 218,
     "metadata": {},
     "output_type": "execute_result"
    }
   ],
   "source": [
    "data.drop_duplicates()"
   ]
  },
  {
   "cell_type": "code",
   "execution_count": 219,
   "metadata": {},
   "outputs": [
    {
     "data": {
      "text/plain": [
       "company                  0\n",
       "location                 0\n",
       "industry                 0\n",
       "total_laid_off         596\n",
       "percentage_laid_off    631\n",
       "date                     1\n",
       "stage                    4\n",
       "country                  0\n",
       "funds_raised           150\n",
       "dtype: int64"
      ]
     },
     "execution_count": 219,
     "metadata": {},
     "output_type": "execute_result"
    }
   ],
   "source": [
    "data.isnull().sum()"
   ]
  },
  {
   "cell_type": "code",
   "execution_count": 220,
   "metadata": {},
   "outputs": [
    {
     "data": {
      "text/plain": [
       "<matplotlib.axes._subplots.AxesSubplot at 0x284f2bea208>"
      ]
     },
     "execution_count": 220,
     "metadata": {},
     "output_type": "execute_result"
    },
    {
     "data": {
      "image/png": "[encoded data removed]",
      "text/plain": [
       "<Figure size 432x288 with 2 Axes>"
      ]
     },
     "metadata": {},
     "output_type": "display_data"
    }
   ],
   "source": [
    "sns.heatmap(data.isnull())"
   ]
  },
  {
   "cell_type": "code",
   "execution_count": 221,
   "metadata": {},
   "outputs": [],
   "source": [
    "data['total_laid_off']=data['total_laid_off'].fillna(0)\n",
    "data['percentage_laid_off']=data['percentage_laid_off'].fillna(0)\n",
    "data['date']=data['date'].fillna(0)\n",
    "data['stage']=data['stage'].fillna(0)\n",
    "data['funds_raised']=data['funds_raised'].fillna(0)"
   ]
  },
  {
   "cell_type": "code",
   "execution_count": 222,
   "metadata": {},
   "outputs": [
    {
     "data": {
      "text/plain": [
       "<matplotlib.axes._subplots.AxesSubplot at 0x284f4df6588>"
      ]
     },
     "execution_count": 222,
     "metadata": {},
     "output_type": "execute_result"
    },
    {
     "data": {
      "image/png": "[encoded data removed]",
      "text/plain": [
       "<Figure size 432x288 with 2 Axes>"
      ]
     },
     "metadata": {},
     "output_type": "display_data"
    }
   ],
   "source": [
    "sns.heatmap(data.isnull())"
   ]
  },
  {
   "cell_type": "code",
   "execution_count": 223,
   "metadata": {},
   "outputs": [],
   "source": [
    "#changing data type "
   ]
  },
  {
   "cell_type": "code",
   "execution_count": 224,
   "metadata": {},
   "outputs": [],
   "source": [
    "data['date'] = pd.to_datetime(data['date'])\n",
    "data['total_laid_off'].astype(int)\n",
    "data['funds_raised'].astype(int)\n",
    "data['Year'] = data['date'].dt.year"
   ]
  },
  {
   "cell_type": "markdown",
   "metadata": {},
   "source": [
    "# EDA"
   ]
  },
  {
   "cell_type": "markdown",
   "metadata": {},
   "source": [
    "# #Layoff"
   ]
  },
  {
   "cell_type": "code",
   "execution_count": 225,
   "metadata": {},
   "outputs": [],
   "source": [
    "#layoff by Year"
   ]
  },
  {
   "cell_type": "code",
   "execution_count": 226,
   "metadata": {},
   "outputs": [
    {
     "data": {
      "text/html": [
       "<div>\n",
       "<style scoped>\n",
       "    .dataframe tbody tr th:only-of-type {\n",
       "        vertical-align: middle;\n",
       "    }\n",
       "\n",
       "    .dataframe tbody tr th {\n",
       "        vertical-align: top;\n",
       "    }\n",
       "\n",
       "    .dataframe thead th {\n",
       "        text-align: right;\n",
       "    }\n",
       "</style>\n",
       "<table border=\"1\" class=\"dataframe\">\n",
       "  <thead>\n",
       "    <tr style=\"text-align: right;\">\n",
       "      <th></th>\n",
       "      <th>company</th>\n",
       "      <th>location</th>\n",
       "      <th>industry</th>\n",
       "      <th>total_laid_off</th>\n",
       "      <th>percentage_laid_off</th>\n",
       "      <th>date</th>\n",
       "      <th>stage</th>\n",
       "      <th>country</th>\n",
       "      <th>funds_raised</th>\n",
       "      <th>Year</th>\n",
       "    </tr>\n",
       "  </thead>\n",
       "  <tbody>\n",
       "    <tr>\n",
       "      <td>1945</td>\n",
       "      <td>Homebound</td>\n",
       "      <td>SF Bay Area</td>\n",
       "      <td>Real Estate</td>\n",
       "      <td>0.0</td>\n",
       "      <td>0.0</td>\n",
       "      <td>1970-01-01</td>\n",
       "      <td>Unknown</td>\n",
       "      <td>United States</td>\n",
       "      <td>128.0</td>\n",
       "      <td>1970</td>\n",
       "    </tr>\n",
       "  </tbody>\n",
       "</table>\n",
       "</div>"
      ],
      "text/plain": [
       "        company     location     industry  total_laid_off  \\\n",
       "1945  Homebound  SF Bay Area  Real Estate             0.0   \n",
       "\n",
       "      percentage_laid_off       date    stage        country  funds_raised  \\\n",
       "1945                  0.0 1970-01-01  Unknown  United States         128.0   \n",
       "\n",
       "      Year  \n",
       "1945  1970  "
      ]
     },
     "execution_count": 226,
     "metadata": {},
     "output_type": "execute_result"
    }
   ],
   "source": [
    "data[data.Year==1970]"
   ]
  },
  {
   "cell_type": "code",
   "execution_count": 227,
   "metadata": {},
   "outputs": [],
   "source": [
    "data.drop([1945],inplace=True)"
   ]
  },
  {
   "cell_type": "code",
   "execution_count": 228,
   "metadata": {},
   "outputs": [
    {
     "data": {
      "text/plain": [
       "2022    1185\n",
       "2020     633\n",
       "2023      84\n",
       "2021      43\n",
       "Name: Year, dtype: int64"
      ]
     },
     "execution_count": 228,
     "metadata": {},
     "output_type": "execute_result"
    }
   ],
   "source": [
    "data['Year'].value_counts()"
   ]
  },
  {
   "cell_type": "code",
   "execution_count": 229,
   "metadata": {},
   "outputs": [
    {
     "data": {
      "image/png": "[encoded data removed]",
      "text/plain": [
       "<Figure size 360x360 with 1 Axes>"
      ]
     },
     "metadata": {},
     "output_type": "display_data"
    }
   ],
   "source": [
    "sns.catplot(x='Year', y='total_laid_off', data=data)\n",
    "plt.title(\"Laid off by Year\",size=20,color='black')\n",
    "plt.xlabel(\"Year\",size=15,color='black')\n",
    "plt.ylabel(\"Laid off Employee\",size=15,color='black')\n",
    "sns.set_style('darkgrid')\n",
    "plt.show()"
   ]
  },
  {
   "cell_type": "code",
   "execution_count": 230,
   "metadata": {},
   "outputs": [
    {
     "data": {
      "image/png": "[encoded data removed]",
      "text/plain": [
       "<Figure size 720x360 with 1 Axes>"
      ]
     },
     "metadata": {},
     "output_type": "display_data"
    }
   ],
   "source": [
    "data['Year'].value_counts().plot.pie(autopct='%1.1f%%',figsize=(10,5))\n",
    "plt.title(\"Laid off Percentage by Year\",size=15,color='black')\n",
    "plt.legend(bbox_to_anchor=(1,1),loc=2)\n",
    "sns.set_style('darkgrid')\n",
    "plt.show()"
   ]
  },
  {
   "cell_type": "code",
   "execution_count": 231,
   "metadata": {},
   "outputs": [],
   "source": [
    " #layoff by Company"
   ]
  },
  {
   "cell_type": "code",
   "execution_count": 232,
   "metadata": {},
   "outputs": [
    {
     "data": {
      "text/plain": [
       "Loft              5\n",
       "OYO               5\n",
       "Uber              5\n",
       "Blend             4\n",
       "Swiggy            4\n",
       "                 ..\n",
       "Playdots          1\n",
       "NS8               1\n",
       "Canoo             1\n",
       "Highsnobiety      1\n",
       "Dynamic Signal    1\n",
       "Name: company, Length: 1600, dtype: int64"
      ]
     },
     "execution_count": 232,
     "metadata": {},
     "output_type": "execute_result"
    }
   ],
   "source": [
    "data['company'].value_counts()"
   ]
  },
  {
   "cell_type": "code",
   "execution_count": 233,
   "metadata": {},
   "outputs": [
    {
     "data": {
      "text/html": [
       "<div>\n",
       "<style scoped>\n",
       "    .dataframe tbody tr th:only-of-type {\n",
       "        vertical-align: middle;\n",
       "    }\n",
       "\n",
       "    .dataframe tbody tr th {\n",
       "        vertical-align: top;\n",
       "    }\n",
       "\n",
       "    .dataframe thead th {\n",
       "        text-align: right;\n",
       "    }\n",
       "</style>\n",
       "<table border=\"1\" class=\"dataframe\">\n",
       "  <thead>\n",
       "    <tr style=\"text-align: right;\">\n",
       "      <th></th>\n",
       "      <th>company</th>\n",
       "      <th>location</th>\n",
       "      <th>industry</th>\n",
       "      <th>total_laid_off</th>\n",
       "      <th>percentage_laid_off</th>\n",
       "      <th>date</th>\n",
       "      <th>stage</th>\n",
       "      <th>country</th>\n",
       "      <th>funds_raised</th>\n",
       "      <th>Year</th>\n",
       "    </tr>\n",
       "  </thead>\n",
       "  <tbody>\n",
       "    <tr>\n",
       "      <td>355</td>\n",
       "      <td>Meta</td>\n",
       "      <td>SF Bay Area</td>\n",
       "      <td>Consumer</td>\n",
       "      <td>11000.0</td>\n",
       "      <td>0.13</td>\n",
       "      <td>2022-11-09</td>\n",
       "      <td>IPO</td>\n",
       "      <td>United States</td>\n",
       "      <td>26000.0</td>\n",
       "      <td>2022</td>\n",
       "    </tr>\n",
       "    <tr>\n",
       "      <td>288</td>\n",
       "      <td>Amazon</td>\n",
       "      <td>Seattle</td>\n",
       "      <td>Retail</td>\n",
       "      <td>10000.0</td>\n",
       "      <td>0.03</td>\n",
       "      <td>2022-11-16</td>\n",
       "      <td>IPO</td>\n",
       "      <td>United States</td>\n",
       "      <td>108.0</td>\n",
       "      <td>2022</td>\n",
       "    </tr>\n",
       "    <tr>\n",
       "      <td>73</td>\n",
       "      <td>Amazon</td>\n",
       "      <td>Seattle</td>\n",
       "      <td>Retail</td>\n",
       "      <td>8000.0</td>\n",
       "      <td>0.02</td>\n",
       "      <td>2023-01-04</td>\n",
       "      <td>IPO</td>\n",
       "      <td>United States</td>\n",
       "      <td>108.0</td>\n",
       "      <td>2023</td>\n",
       "    </tr>\n",
       "    <tr>\n",
       "      <td>74</td>\n",
       "      <td>Salesforce</td>\n",
       "      <td>SF Bay Area</td>\n",
       "      <td>Sales</td>\n",
       "      <td>8000.0</td>\n",
       "      <td>0.10</td>\n",
       "      <td>2023-01-04</td>\n",
       "      <td>IPO</td>\n",
       "      <td>United States</td>\n",
       "      <td>65.0</td>\n",
       "      <td>2023</td>\n",
       "    </tr>\n",
       "    <tr>\n",
       "      <td>1369</td>\n",
       "      <td>Booking.com</td>\n",
       "      <td>Amsterdam</td>\n",
       "      <td>Travel</td>\n",
       "      <td>4375.0</td>\n",
       "      <td>0.25</td>\n",
       "      <td>2020-07-30</td>\n",
       "      <td>Acquired</td>\n",
       "      <td>Netherlands</td>\n",
       "      <td>0.0</td>\n",
       "      <td>2020</td>\n",
       "    </tr>\n",
       "    <tr>\n",
       "      <td>289</td>\n",
       "      <td>Cisco</td>\n",
       "      <td>SF Bay Area</td>\n",
       "      <td>Infrastructure</td>\n",
       "      <td>4100.0</td>\n",
       "      <td>0.05</td>\n",
       "      <td>2022-11-16</td>\n",
       "      <td>IPO</td>\n",
       "      <td>United States</td>\n",
       "      <td>2.0</td>\n",
       "      <td>2022</td>\n",
       "    </tr>\n",
       "    <tr>\n",
       "      <td>385</td>\n",
       "      <td>Twitter</td>\n",
       "      <td>SF Bay Area</td>\n",
       "      <td>Consumer</td>\n",
       "      <td>3700.0</td>\n",
       "      <td>0.50</td>\n",
       "      <td>2022-11-04</td>\n",
       "      <td>IPO</td>\n",
       "      <td>United States</td>\n",
       "      <td>12900.0</td>\n",
       "      <td>2022</td>\n",
       "    </tr>\n",
       "    <tr>\n",
       "      <td>1518</td>\n",
       "      <td>Uber</td>\n",
       "      <td>SF Bay Area</td>\n",
       "      <td>Transportation</td>\n",
       "      <td>3700.0</td>\n",
       "      <td>0.14</td>\n",
       "      <td>2020-05-06</td>\n",
       "      <td>IPO</td>\n",
       "      <td>United States</td>\n",
       "      <td>24700.0</td>\n",
       "      <td>2020</td>\n",
       "    </tr>\n",
       "    <tr>\n",
       "      <td>1247</td>\n",
       "      <td>Better.com</td>\n",
       "      <td>New York City</td>\n",
       "      <td>Real Estate</td>\n",
       "      <td>3000.0</td>\n",
       "      <td>0.33</td>\n",
       "      <td>2022-03-08</td>\n",
       "      <td>Unknown</td>\n",
       "      <td>United States</td>\n",
       "      <td>905.0</td>\n",
       "      <td>2022</td>\n",
       "    </tr>\n",
       "    <tr>\n",
       "      <td>1473</td>\n",
       "      <td>Uber</td>\n",
       "      <td>SF Bay Area</td>\n",
       "      <td>Transportation</td>\n",
       "      <td>3000.0</td>\n",
       "      <td>0.13</td>\n",
       "      <td>2020-05-18</td>\n",
       "      <td>IPO</td>\n",
       "      <td>United States</td>\n",
       "      <td>24700.0</td>\n",
       "      <td>2020</td>\n",
       "    </tr>\n",
       "  </tbody>\n",
       "</table>\n",
       "</div>"
      ],
      "text/plain": [
       "          company       location        industry  total_laid_off  \\\n",
       "355          Meta    SF Bay Area        Consumer         11000.0   \n",
       "288        Amazon        Seattle          Retail         10000.0   \n",
       "73         Amazon        Seattle          Retail          8000.0   \n",
       "74     Salesforce    SF Bay Area           Sales          8000.0   \n",
       "1369  Booking.com      Amsterdam          Travel          4375.0   \n",
       "289         Cisco    SF Bay Area  Infrastructure          4100.0   \n",
       "385       Twitter    SF Bay Area        Consumer          3700.0   \n",
       "1518         Uber    SF Bay Area  Transportation          3700.0   \n",
       "1247   Better.com  New York City     Real Estate          3000.0   \n",
       "1473         Uber    SF Bay Area  Transportation          3000.0   \n",
       "\n",
       "      percentage_laid_off       date     stage        country  funds_raised  \\\n",
       "355                  0.13 2022-11-09       IPO  United States       26000.0   \n",
       "288                  0.03 2022-11-16       IPO  United States         108.0   \n",
       "73                   0.02 2023-01-04       IPO  United States         108.0   \n",
       "74                   0.10 2023-01-04       IPO  United States          65.0   \n",
       "1369                 0.25 2020-07-30  Acquired    Netherlands           0.0   \n",
       "289                  0.05 2022-11-16       IPO  United States           2.0   \n",
       "385                  0.50 2022-11-04       IPO  United States       12900.0   \n",
       "1518                 0.14 2020-05-06       IPO  United States       24700.0   \n",
       "1247                 0.33 2022-03-08   Unknown  United States         905.0   \n",
       "1473                 0.13 2020-05-18       IPO  United States       24700.0   \n",
       "\n",
       "      Year  \n",
       "355   2022  \n",
       "288   2022  \n",
       "73    2023  \n",
       "74    2023  \n",
       "1369  2020  \n",
       "289   2022  \n",
       "385   2022  \n",
       "1518  2020  \n",
       "1247  2022  \n",
       "1473  2020  "
      ]
     },
     "execution_count": 233,
     "metadata": {},
     "output_type": "execute_result"
    }
   ],
   "source": [
    "Top10=data.nlargest(10,['total_laid_off']).sort_values(by='total_laid_off',ascending = False )\n",
    "Top10"
   ]
  },
  {
   "cell_type": "code",
   "execution_count": 234,
   "metadata": {},
   "outputs": [
    {
     "data": {
      "image/png": "[encoded data removed]",
      "text/plain": [
       "<Figure size 720x360 with 1 Axes>"
      ]
     },
     "metadata": {},
     "output_type": "display_data"
    }
   ],
   "source": [
    "plt.figure(figsize=(10,5))\n",
    "sns.barplot(x='company',y='total_laid_off',data=Top10)\n",
    "plt.title(\"Most Laid off by Companies with Employee Numbers\",color='black',size=15)\n",
    "sns.set_style(style='darkgrid')\n",
    "plt.show()"
   ]
  },
  {
   "cell_type": "code",
   "execution_count": 235,
   "metadata": {},
   "outputs": [
    {
     "data": {
      "image/png": "[encoded data removed]",
      "text/plain": [
       "<Figure size 720x360 with 1 Axes>"
      ]
     },
     "metadata": {},
     "output_type": "display_data"
    }
   ],
   "source": [
    "Top10['company'].value_counts().plot.pie(autopct='%1.1f%%',figsize=(10,5))\n",
    "plt.title(\"Companies Laid off Percentages\",size=15,color='black')\n",
    "plt.legend(bbox_to_anchor=(1,1),loc=2)\n",
    "sns.set_style('darkgrid')\n",
    "plt.show()"
   ]
  },
  {
   "cell_type": "code",
   "execution_count": 236,
   "metadata": {},
   "outputs": [],
   "source": [
    "#layoff by Industry  "
   ]
  },
  {
   "cell_type": "code",
   "execution_count": 237,
   "metadata": {},
   "outputs": [
    {
     "data": {
      "text/plain": [
       "Finance           243\n",
       "Retail            161\n",
       "Healthcare        142\n",
       "Transportation    121\n",
       "Food              116\n",
       "Marketing         116\n",
       "Real Estate       106\n",
       "Consumer           95\n",
       "Other              88\n",
       "Education          85\n",
       "Crypto             82\n",
       "Media              81\n",
       "Data               66\n",
       "Travel             63\n",
       "Security           59\n",
       "HR                 54\n",
       "Infrastructure     38\n",
       "Logistics          37\n",
       "Support            30\n",
       "Product            29\n",
       "Sales              29\n",
       "Recruiting         28\n",
       "Fitness            28\n",
       "Construction       14\n",
       "Energy             11\n",
       "Legal               9\n",
       "Hardware            6\n",
       "Aerospace           6\n",
       "Manufacturing       2\n",
       "Name: industry, dtype: int64"
      ]
     },
     "execution_count": 237,
     "metadata": {},
     "output_type": "execute_result"
    }
   ],
   "source": [
    "data['industry'].value_counts()"
   ]
  },
  {
   "cell_type": "code",
   "execution_count": 238,
   "metadata": {},
   "outputs": [
    {
     "data": {
      "image/png": "[encoded data removed]",
      "text/plain": [
       "<Figure size 720x360 with 1 Axes>"
      ]
     },
     "metadata": {},
     "output_type": "display_data"
    }
   ],
   "source": [
    "plt.figure(figsize=(10,5))\n",
    "sns.countplot(x=Top10['industry'], data=Top10)\n",
    "plt.title(\" Most Laid off by Industries \",color='black',size=15)\n",
    "sns.set_style(style='darkgrid')\n",
    "plt.show()"
   ]
  },
  {
   "cell_type": "code",
   "execution_count": 239,
   "metadata": {},
   "outputs": [
    {
     "data": {
      "image/png": "[encoded data removed]",
      "text/plain": [
       "<Figure size 720x360 with 1 Axes>"
      ]
     },
     "metadata": {},
     "output_type": "display_data"
    }
   ],
   "source": [
    "Top10['industry'].value_counts().plot.pie(autopct='%1.1f%%',figsize=(10,5))\n",
    "plt.title(\"Industries Laid off Percentages \",size=15,color='black')\n",
    "plt.legend(bbox_to_anchor=(1,1),loc=2)\n",
    "sns.set_style('darkgrid')\n",
    "plt.show()"
   ]
  },
  {
   "cell_type": "code",
   "execution_count": 240,
   "metadata": {},
   "outputs": [],
   "source": [
    "#layoffs by Country  "
   ]
  },
  {
   "cell_type": "code",
   "execution_count": 241,
   "metadata": {},
   "outputs": [
    {
     "data": {
      "text/plain": [
       "United States           1282\n",
       "India                    120\n",
       "Canada                    86\n",
       "United Kingdom            62\n",
       "Brazil                    58\n",
       "Germany                   54\n",
       "Israel                    46\n",
       "Australia                 39\n",
       "Singapore                 30\n",
       "Indonesia                 23\n",
       "Sweden                    17\n",
       "China                     15\n",
       "Nigeria                   10\n",
       "Kenya                      6\n",
       "United Arab Emirates       6\n",
       "Netherlands                6\n",
       "Argentina                  5\n",
       "Hong Kong                  5\n",
       "Ireland                    4\n",
       "Norway                     4\n",
       "Mexico                     4\n",
       "Denmark                    4\n",
       "Estonia                    4\n",
       "Seychelles                 4\n",
       "Vietnam                    3\n",
       "Pakistan                   3\n",
       "Austria                    3\n",
       "Colombia                   3\n",
       "Luxembourg                 3\n",
       "Malaysia                   3\n",
       "Chile                      2\n",
       "Romania                    2\n",
       "France                     2\n",
       "Portugal                   2\n",
       "New Zealand                2\n",
       "Egypt                      2\n",
       "Switzerland                2\n",
       "Czech Republic             1\n",
       "Ghana                      1\n",
       "Uruguay                    1\n",
       "Greece                     1\n",
       "Thailand                   1\n",
       "Lithuania                  1\n",
       "Hungary                    1\n",
       "South Africa               1\n",
       "Finland                    1\n",
       "Bahrain                    1\n",
       "Myanmar                    1\n",
       "Turkey                     1\n",
       "Poland                     1\n",
       "Spain                      1\n",
       "Senegal                    1\n",
       "Russia                     1\n",
       "Bulgaria                   1\n",
       "Peru                       1\n",
       "Belgium                    1\n",
       "Name: country, dtype: int64"
      ]
     },
     "execution_count": 241,
     "metadata": {},
     "output_type": "execute_result"
    }
   ],
   "source": [
    "data['country'].value_counts()"
   ]
  },
  {
   "cell_type": "code",
   "execution_count": 242,
   "metadata": {},
   "outputs": [
    {
     "data": {
      "image/png": "[encoded data removed]",
      "text/plain": [
       "<Figure size 720x360 with 1 Axes>"
      ]
     },
     "metadata": {},
     "output_type": "display_data"
    }
   ],
   "source": [
    "plt.figure(figsize=(10,5))\n",
    "ax = sns.countplot(y=\"country\", data=data, order=data['country'].value_counts().index[0:15])\n",
    "plt.title(\"Laid off by Country\",size=15,color='black')\n",
    "sns.set_style('darkgrid')\n",
    "plt.show()"
   ]
  },
  {
   "cell_type": "code",
   "execution_count": 243,
   "metadata": {},
   "outputs": [],
   "source": [
    "#layoffs by Location"
   ]
  },
  {
   "cell_type": "code",
   "execution_count": 244,
   "metadata": {},
   "outputs": [
    {
     "data": {
      "text/plain": [
       "SF Bay Area      514\n",
       "New York City    213\n",
       "Boston            88\n",
       "Los Angeles       81\n",
       "Seattle           66\n",
       "                ... \n",
       "Saskatoon          1\n",
       "Moscow             1\n",
       "Ahmedabad          1\n",
       "Indianapolis       1\n",
       "Trondheim          1\n",
       "Name: location, Length: 167, dtype: int64"
      ]
     },
     "execution_count": 244,
     "metadata": {},
     "output_type": "execute_result"
    }
   ],
   "source": [
    "data['location'].value_counts()"
   ]
  },
  {
   "cell_type": "code",
   "execution_count": 245,
   "metadata": {},
   "outputs": [
    {
     "data": {
      "image/png": "[encoded data removed]",
      "text/plain": [
       "<Figure size 720x360 with 1 Axes>"
      ]
     },
     "metadata": {},
     "output_type": "display_data"
    }
   ],
   "source": [
    "plt.figure(figsize=(10,5))\n",
    "ax = sns.countplot(y=\"location\", data=data, order=data['location'].value_counts().index[0:15])\n",
    "plt.title(\"Laid off by Location\",size=15,color='black')\n",
    "sns.set_style('darkgrid')\n",
    "plt.show()"
   ]
  },
  {
   "cell_type": "markdown",
   "metadata": {},
   "source": [
    "# Lay off in India"
   ]
  },
  {
   "cell_type": "code",
   "execution_count": 246,
   "metadata": {},
   "outputs": [
    {
     "data": {
      "text/html": [
       "<div>\n",
       "<style scoped>\n",
       "    .dataframe tbody tr th:only-of-type {\n",
       "        vertical-align: middle;\n",
       "    }\n",
       "\n",
       "    .dataframe tbody tr th {\n",
       "        vertical-align: top;\n",
       "    }\n",
       "\n",
       "    .dataframe thead th {\n",
       "        text-align: right;\n",
       "    }\n",
       "</style>\n",
       "<table border=\"1\" class=\"dataframe\">\n",
       "  <thead>\n",
       "    <tr style=\"text-align: right;\">\n",
       "      <th></th>\n",
       "      <th>company</th>\n",
       "      <th>location</th>\n",
       "      <th>industry</th>\n",
       "      <th>total_laid_off</th>\n",
       "      <th>percentage_laid_off</th>\n",
       "      <th>date</th>\n",
       "      <th>stage</th>\n",
       "      <th>country</th>\n",
       "      <th>funds_raised</th>\n",
       "      <th>Year</th>\n",
       "    </tr>\n",
       "  </thead>\n",
       "  <tbody>\n",
       "    <tr>\n",
       "      <td>488</td>\n",
       "      <td>Byju's</td>\n",
       "      <td>Bengaluru</td>\n",
       "      <td>Education</td>\n",
       "      <td>2500.0</td>\n",
       "      <td>0.05</td>\n",
       "      <td>2022-10-12</td>\n",
       "      <td>Private Equity</td>\n",
       "      <td>India</td>\n",
       "      <td>5500.0</td>\n",
       "      <td>2022</td>\n",
       "    </tr>\n",
       "    <tr>\n",
       "      <td>1303</td>\n",
       "      <td>Bytedance</td>\n",
       "      <td>Mumbai</td>\n",
       "      <td>Consumer</td>\n",
       "      <td>1800.0</td>\n",
       "      <td>0.00</td>\n",
       "      <td>2021-01-27</td>\n",
       "      <td>Unknown</td>\n",
       "      <td>India</td>\n",
       "      <td>7400.0</td>\n",
       "      <td>2021</td>\n",
       "    </tr>\n",
       "    <tr>\n",
       "      <td>1311</td>\n",
       "      <td>WhiteHat Jr</td>\n",
       "      <td>Mumbai</td>\n",
       "      <td>Education</td>\n",
       "      <td>1800.0</td>\n",
       "      <td>0.00</td>\n",
       "      <td>2021-01-06</td>\n",
       "      <td>Acquired</td>\n",
       "      <td>India</td>\n",
       "      <td>11.0</td>\n",
       "      <td>2021</td>\n",
       "    </tr>\n",
       "    <tr>\n",
       "      <td>1416</td>\n",
       "      <td>PaisaBazaar</td>\n",
       "      <td>Gurugram</td>\n",
       "      <td>Finance</td>\n",
       "      <td>1500.0</td>\n",
       "      <td>0.50</td>\n",
       "      <td>2020-06-16</td>\n",
       "      <td>Series G</td>\n",
       "      <td>India</td>\n",
       "      <td>496.0</td>\n",
       "      <td>2020</td>\n",
       "    </tr>\n",
       "    <tr>\n",
       "      <td>1463</td>\n",
       "      <td>Ola</td>\n",
       "      <td>Bengaluru</td>\n",
       "      <td>Transportation</td>\n",
       "      <td>1400.0</td>\n",
       "      <td>0.35</td>\n",
       "      <td>2020-05-20</td>\n",
       "      <td>Series J</td>\n",
       "      <td>India</td>\n",
       "      <td>3800.0</td>\n",
       "      <td>2020</td>\n",
       "    </tr>\n",
       "    <tr>\n",
       "      <td>...</td>\n",
       "      <td>...</td>\n",
       "      <td>...</td>\n",
       "      <td>...</td>\n",
       "      <td>...</td>\n",
       "      <td>...</td>\n",
       "      <td>...</td>\n",
       "      <td>...</td>\n",
       "      <td>...</td>\n",
       "      <td>...</td>\n",
       "      <td>...</td>\n",
       "    </tr>\n",
       "    <tr>\n",
       "      <td>130</td>\n",
       "      <td>PharmEasy</td>\n",
       "      <td>Mumbai</td>\n",
       "      <td>Healthcare</td>\n",
       "      <td>0.0</td>\n",
       "      <td>0.00</td>\n",
       "      <td>2022-12-10</td>\n",
       "      <td>Unknown</td>\n",
       "      <td>India</td>\n",
       "      <td>1600.0</td>\n",
       "      <td>2022</td>\n",
       "    </tr>\n",
       "    <tr>\n",
       "      <td>1553</td>\n",
       "      <td>Flynote</td>\n",
       "      <td>Bengaluru</td>\n",
       "      <td>Travel</td>\n",
       "      <td>0.0</td>\n",
       "      <td>0.00</td>\n",
       "      <td>2020-05-01</td>\n",
       "      <td>Seed</td>\n",
       "      <td>India</td>\n",
       "      <td>1.0</td>\n",
       "      <td>2020</td>\n",
       "    </tr>\n",
       "    <tr>\n",
       "      <td>592</td>\n",
       "      <td>Lido Learning</td>\n",
       "      <td>Mumbai</td>\n",
       "      <td>Education</td>\n",
       "      <td>0.0</td>\n",
       "      <td>1.00</td>\n",
       "      <td>2022-09-09</td>\n",
       "      <td>Series C</td>\n",
       "      <td>India</td>\n",
       "      <td>20.0</td>\n",
       "      <td>2022</td>\n",
       "    </tr>\n",
       "    <tr>\n",
       "      <td>384</td>\n",
       "      <td>Practically</td>\n",
       "      <td>Hyderabad</td>\n",
       "      <td>Education</td>\n",
       "      <td>0.0</td>\n",
       "      <td>0.00</td>\n",
       "      <td>2022-11-06</td>\n",
       "      <td>Unknown</td>\n",
       "      <td>India</td>\n",
       "      <td>14.0</td>\n",
       "      <td>2022</td>\n",
       "    </tr>\n",
       "    <tr>\n",
       "      <td>658</td>\n",
       "      <td>ShopX</td>\n",
       "      <td>Bengaluru</td>\n",
       "      <td>Retail</td>\n",
       "      <td>0.0</td>\n",
       "      <td>1.00</td>\n",
       "      <td>2022-08-22</td>\n",
       "      <td>Unknown</td>\n",
       "      <td>India</td>\n",
       "      <td>56.0</td>\n",
       "      <td>2022</td>\n",
       "    </tr>\n",
       "  </tbody>\n",
       "</table>\n",
       "<p>120 rows × 10 columns</p>\n",
       "</div>"
      ],
      "text/plain": [
       "            company   location        industry  total_laid_off  \\\n",
       "488          Byju's  Bengaluru       Education          2500.0   \n",
       "1303      Bytedance     Mumbai        Consumer          1800.0   \n",
       "1311    WhiteHat Jr     Mumbai       Education          1800.0   \n",
       "1416    PaisaBazaar   Gurugram         Finance          1500.0   \n",
       "1463            Ola  Bengaluru  Transportation          1400.0   \n",
       "...             ...        ...             ...             ...   \n",
       "130       PharmEasy     Mumbai      Healthcare             0.0   \n",
       "1553        Flynote  Bengaluru          Travel             0.0   \n",
       "592   Lido Learning     Mumbai       Education             0.0   \n",
       "384     Practically  Hyderabad       Education             0.0   \n",
       "658           ShopX  Bengaluru          Retail             0.0   \n",
       "\n",
       "      percentage_laid_off       date           stage country  funds_raised  \\\n",
       "488                  0.05 2022-10-12  Private Equity   India        5500.0   \n",
       "1303                 0.00 2021-01-27         Unknown   India        7400.0   \n",
       "1311                 0.00 2021-01-06        Acquired   India          11.0   \n",
       "1416                 0.50 2020-06-16        Series G   India         496.0   \n",
       "1463                 0.35 2020-05-20        Series J   India        3800.0   \n",
       "...                   ...        ...             ...     ...           ...   \n",
       "130                  0.00 2022-12-10         Unknown   India        1600.0   \n",
       "1553                 0.00 2020-05-01            Seed   India           1.0   \n",
       "592                  1.00 2022-09-09        Series C   India          20.0   \n",
       "384                  0.00 2022-11-06         Unknown   India          14.0   \n",
       "658                  1.00 2022-08-22         Unknown   India          56.0   \n",
       "\n",
       "      Year  \n",
       "488   2022  \n",
       "1303  2021  \n",
       "1311  2021  \n",
       "1416  2020  \n",
       "1463  2020  \n",
       "...    ...  \n",
       "130   2022  \n",
       "1553  2020  \n",
       "592   2022  \n",
       "384   2022  \n",
       "658   2022  \n",
       "\n",
       "[120 rows x 10 columns]"
      ]
     },
     "execution_count": 246,
     "metadata": {},
     "output_type": "execute_result"
    }
   ],
   "source": [
    "india = data[data['country']==\"India\"].sort_values(by='total_laid_off',ascending = False )\n",
    "india"
   ]
  },
  {
   "cell_type": "code",
   "execution_count": 247,
   "metadata": {},
   "outputs": [
    {
     "data": {
      "text/html": [
       "<div>\n",
       "<style scoped>\n",
       "    .dataframe tbody tr th:only-of-type {\n",
       "        vertical-align: middle;\n",
       "    }\n",
       "\n",
       "    .dataframe tbody tr th {\n",
       "        vertical-align: top;\n",
       "    }\n",
       "\n",
       "    .dataframe thead th {\n",
       "        text-align: right;\n",
       "    }\n",
       "</style>\n",
       "<table border=\"1\" class=\"dataframe\">\n",
       "  <thead>\n",
       "    <tr style=\"text-align: right;\">\n",
       "      <th></th>\n",
       "      <th>company</th>\n",
       "      <th>industry</th>\n",
       "      <th>location</th>\n",
       "      <th>Year</th>\n",
       "      <th>total_laid_off</th>\n",
       "    </tr>\n",
       "    <tr>\n",
       "      <th>country</th>\n",
       "      <th></th>\n",
       "      <th></th>\n",
       "      <th></th>\n",
       "      <th></th>\n",
       "      <th></th>\n",
       "    </tr>\n",
       "  </thead>\n",
       "  <tbody>\n",
       "    <tr>\n",
       "      <td>India</td>\n",
       "      <td>Byju's</td>\n",
       "      <td>Education</td>\n",
       "      <td>Bengaluru</td>\n",
       "      <td>2022</td>\n",
       "      <td>2500.0</td>\n",
       "    </tr>\n",
       "    <tr>\n",
       "      <td>India</td>\n",
       "      <td>Bytedance</td>\n",
       "      <td>Consumer</td>\n",
       "      <td>Mumbai</td>\n",
       "      <td>2021</td>\n",
       "      <td>1800.0</td>\n",
       "    </tr>\n",
       "    <tr>\n",
       "      <td>India</td>\n",
       "      <td>WhiteHat Jr</td>\n",
       "      <td>Education</td>\n",
       "      <td>Mumbai</td>\n",
       "      <td>2021</td>\n",
       "      <td>1800.0</td>\n",
       "    </tr>\n",
       "    <tr>\n",
       "      <td>India</td>\n",
       "      <td>PaisaBazaar</td>\n",
       "      <td>Finance</td>\n",
       "      <td>Gurugram</td>\n",
       "      <td>2020</td>\n",
       "      <td>1500.0</td>\n",
       "    </tr>\n",
       "    <tr>\n",
       "      <td>India</td>\n",
       "      <td>Ola</td>\n",
       "      <td>Transportation</td>\n",
       "      <td>Bengaluru</td>\n",
       "      <td>2020</td>\n",
       "      <td>1400.0</td>\n",
       "    </tr>\n",
       "    <tr>\n",
       "      <td>India</td>\n",
       "      <td>Swiggy</td>\n",
       "      <td>Food</td>\n",
       "      <td>Bengaluru</td>\n",
       "      <td>2020</td>\n",
       "      <td>1100.0</td>\n",
       "    </tr>\n",
       "    <tr>\n",
       "      <td>India</td>\n",
       "      <td>Unacademy</td>\n",
       "      <td>Education</td>\n",
       "      <td>Bengaluru</td>\n",
       "      <td>2022</td>\n",
       "      <td>1000.0</td>\n",
       "    </tr>\n",
       "    <tr>\n",
       "      <td>India</td>\n",
       "      <td>Ola</td>\n",
       "      <td>Transportation</td>\n",
       "      <td>Bengaluru</td>\n",
       "      <td>2022</td>\n",
       "      <td>1000.0</td>\n",
       "    </tr>\n",
       "    <tr>\n",
       "      <td>India</td>\n",
       "      <td>Swiggy</td>\n",
       "      <td>Food</td>\n",
       "      <td>Bengaluru</td>\n",
       "      <td>2020</td>\n",
       "      <td>800.0</td>\n",
       "    </tr>\n",
       "    <tr>\n",
       "      <td>India</td>\n",
       "      <td>CureFit</td>\n",
       "      <td>Fitness</td>\n",
       "      <td>Bengaluru</td>\n",
       "      <td>2020</td>\n",
       "      <td>800.0</td>\n",
       "    </tr>\n",
       "  </tbody>\n",
       "</table>\n",
       "</div>"
      ],
      "text/plain": [
       "             company        industry   location  Year  total_laid_off\n",
       "country                                                              \n",
       "India         Byju's       Education  Bengaluru  2022          2500.0\n",
       "India      Bytedance        Consumer     Mumbai  2021          1800.0\n",
       "India    WhiteHat Jr       Education     Mumbai  2021          1800.0\n",
       "India    PaisaBazaar         Finance   Gurugram  2020          1500.0\n",
       "India            Ola  Transportation  Bengaluru  2020          1400.0\n",
       "India         Swiggy            Food  Bengaluru  2020          1100.0\n",
       "India      Unacademy       Education  Bengaluru  2022          1000.0\n",
       "India            Ola  Transportation  Bengaluru  2022          1000.0\n",
       "India         Swiggy            Food  Bengaluru  2020           800.0\n",
       "India        CureFit         Fitness  Bengaluru  2020           800.0"
      ]
     },
     "execution_count": 247,
     "metadata": {},
     "output_type": "execute_result"
    }
   ],
   "source": [
    "Top10=india.nlargest(10,['total_laid_off'])[['company','industry','location','Year','total_laid_off','country']].set_index('country')\n",
    "Top10"
   ]
  },
  {
   "cell_type": "code",
   "execution_count": 248,
   "metadata": {},
   "outputs": [
    {
     "data": {
      "image/png": "[encoded data removed]",
      "text/plain": [
       "<Figure size 720x360 with 1 Axes>"
      ]
     },
     "metadata": {},
     "output_type": "display_data"
    }
   ],
   "source": [
    "plt.figure(figsize=(10,5))\n",
    "sns.barplot(x='company',y='total_laid_off',data=Top10)\n",
    "plt.title(\"Most Laid off by Companies in India\",color='black',size=15)\n",
    "sns.set_style(style='darkgrid')\n",
    "plt.show()"
   ]
  },
  {
   "cell_type": "code",
   "execution_count": 249,
   "metadata": {},
   "outputs": [
    {
     "data": {
      "image/png": "[encoded data removed]",
      "text/plain": [
       "<Figure size 720x360 with 1 Axes>"
      ]
     },
     "metadata": {},
     "output_type": "display_data"
    }
   ],
   "source": [
    "plt.figure(figsize=(10,5))\n",
    "sns.countplot(x=Top10['industry'], data=Top10)\n",
    "plt.title(\"Most Laid off by industry in India\",color='black',size=15)\n",
    "sns.set_style(style='darkgrid')\n",
    "plt.show()"
   ]
  },
  {
   "cell_type": "code",
   "execution_count": 250,
   "metadata": {},
   "outputs": [
    {
     "data": {
      "image/png": "[encoded data removed]",
      "text/plain": [
       "<Figure size 720x360 with 1 Axes>"
      ]
     },
     "metadata": {},
     "output_type": "display_data"
    }
   ],
   "source": [
    "plt.figure(figsize=(10,5))\n",
    "sns.countplot(x=india['location'], data=india)\n",
    "plt.title(\" Most Laid off by Cities in India\",color='black',size=15)\n",
    "sns.set_style(style='darkgrid')\n",
    "plt.show()"
   ]
  },
  {
   "cell_type": "markdown",
   "metadata": {},
   "source": [
    "# Fund Raised"
   ]
  },
  {
   "cell_type": "code",
   "execution_count": 251,
   "metadata": {},
   "outputs": [],
   "source": [
    "#Fund Raised By Year"
   ]
  },
  {
   "cell_type": "code",
   "execution_count": 252,
   "metadata": {},
   "outputs": [
    {
     "data": {
      "image/png": "[encoded data removed]",
      "text/plain": [
       "<Figure size 360x360 with 1 Axes>"
      ]
     },
     "metadata": {},
     "output_type": "display_data"
    }
   ],
   "source": [
    "sns.catplot(x='Year', y='funds_raised', data=data)\n",
    "plt.title(\"Funds Raised by Year\",size=15,color='black')\n",
    "sns.set_style('darkgrid')\n",
    "plt.show()"
   ]
  },
  {
   "cell_type": "code",
   "execution_count": 253,
   "metadata": {},
   "outputs": [],
   "source": [
    "#Fund Raised By Company"
   ]
  },
  {
   "cell_type": "code",
   "execution_count": 254,
   "metadata": {},
   "outputs": [
    {
     "data": {
      "text/html": [
       "<div>\n",
       "<style scoped>\n",
       "    .dataframe tbody tr th:only-of-type {\n",
       "        vertical-align: middle;\n",
       "    }\n",
       "\n",
       "    .dataframe tbody tr th {\n",
       "        vertical-align: top;\n",
       "    }\n",
       "\n",
       "    .dataframe thead th {\n",
       "        text-align: right;\n",
       "    }\n",
       "</style>\n",
       "<table border=\"1\" class=\"dataframe\">\n",
       "  <thead>\n",
       "    <tr style=\"text-align: right;\">\n",
       "      <th></th>\n",
       "      <th>company</th>\n",
       "      <th>funds_raised</th>\n",
       "    </tr>\n",
       "    <tr>\n",
       "      <th>Year</th>\n",
       "      <th></th>\n",
       "      <th></th>\n",
       "    </tr>\n",
       "  </thead>\n",
       "  <tbody>\n",
       "    <tr>\n",
       "      <td>2022</td>\n",
       "      <td>Netflix</td>\n",
       "      <td>121900.0</td>\n",
       "    </tr>\n",
       "    <tr>\n",
       "      <td>2022</td>\n",
       "      <td>Netflix</td>\n",
       "      <td>121900.0</td>\n",
       "    </tr>\n",
       "    <tr>\n",
       "      <td>2022</td>\n",
       "      <td>Netflix</td>\n",
       "      <td>121900.0</td>\n",
       "    </tr>\n",
       "    <tr>\n",
       "      <td>2022</td>\n",
       "      <td>Netflix</td>\n",
       "      <td>121900.0</td>\n",
       "    </tr>\n",
       "    <tr>\n",
       "      <td>2022</td>\n",
       "      <td>Meta</td>\n",
       "      <td>26000.0</td>\n",
       "    </tr>\n",
       "    <tr>\n",
       "      <td>2022</td>\n",
       "      <td>Uber</td>\n",
       "      <td>24700.0</td>\n",
       "    </tr>\n",
       "    <tr>\n",
       "      <td>2020</td>\n",
       "      <td>Uber</td>\n",
       "      <td>24700.0</td>\n",
       "    </tr>\n",
       "    <tr>\n",
       "      <td>2020</td>\n",
       "      <td>Uber</td>\n",
       "      <td>24700.0</td>\n",
       "    </tr>\n",
       "    <tr>\n",
       "      <td>2020</td>\n",
       "      <td>Uber</td>\n",
       "      <td>24700.0</td>\n",
       "    </tr>\n",
       "    <tr>\n",
       "      <td>2020</td>\n",
       "      <td>Uber</td>\n",
       "      <td>24700.0</td>\n",
       "    </tr>\n",
       "  </tbody>\n",
       "</table>\n",
       "</div>"
      ],
      "text/plain": [
       "      company  funds_raised\n",
       "Year                       \n",
       "2022  Netflix      121900.0\n",
       "2022  Netflix      121900.0\n",
       "2022  Netflix      121900.0\n",
       "2022  Netflix      121900.0\n",
       "2022     Meta       26000.0\n",
       "2022     Uber       24700.0\n",
       "2020     Uber       24700.0\n",
       "2020     Uber       24700.0\n",
       "2020     Uber       24700.0\n",
       "2020     Uber       24700.0"
      ]
     },
     "execution_count": 254,
     "metadata": {},
     "output_type": "execute_result"
    }
   ],
   "source": [
    "Top=data.nlargest(10,['funds_raised'])[['company','funds_raised','Year']].set_index('Year')\n",
    "Top"
   ]
  },
  {
   "cell_type": "code",
   "execution_count": 255,
   "metadata": {},
   "outputs": [
    {
     "data": {
      "image/png": "[encoded data removed]",
      "text/plain": [
       "<Figure size 360x360 with 1 Axes>"
      ]
     },
     "metadata": {},
     "output_type": "display_data"
    }
   ],
   "source": [
    "plt.figure(figsize=(5,5))\n",
    "sns.barplot(x='company',y='funds_raised',data=Top)\n",
    "plt.title(\" Most Fund Raised By Company in 2022\",color='black',size=15)\n",
    "sns.set_style(style='darkgrid')\n",
    "plt.show()"
   ]
  }
 ],
 "metadata": {
  "kernelspec": {
   "display_name": "Python 3",
   "language": "python",
   "name": "python3"
  },
  "language_info": {
   "codemirror_mode": {
    "name": "ipython",
    "version": 3
   },
   "file_extension": ".py",
   "mimetype": "text/x-python",
   "name": "python",
   "nbconvert_exporter": "python",
   "pygments_lexer": "ipython3",
   "version": "3.7.4"
  }
 },
 "nbformat": 4,
 "nbformat_minor": 2
}
