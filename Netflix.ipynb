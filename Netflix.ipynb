{
 "cells": [
  {
   "cell_type": "code",
   "execution_count": 55,
   "metadata": {},
   "outputs": [],
   "source": [
    "import numpy as np\n",
    "import pandas as pd\n",
    "import matplotlib.pyplot as plt\n",
    "import seaborn as sns\n",
    "import warnings"
   ]
  },
  {
   "cell_type": "code",
   "execution_count": 56,
   "metadata": {},
   "outputs": [],
   "source": [
    "Data = pd.read_csv(\"Netflix Dataset.csv\")"
   ]
  },
  {
   "cell_type": "code",
   "execution_count": 57,
   "metadata": {},
   "outputs": [
    {
     "data": {
      "text/html": [
       "<div>\n",
       "<style scoped>\n",
       "    .dataframe tbody tr th:only-of-type {\n",
       "        vertical-align: middle;\n",
       "    }\n",
       "\n",
       "    .dataframe tbody tr th {\n",
       "        vertical-align: top;\n",
       "    }\n",
       "\n",
       "    .dataframe thead th {\n",
       "        text-align: right;\n",
       "    }\n",
       "</style>\n",
       "<table border=\"1\" class=\"dataframe\">\n",
       "  <thead>\n",
       "    <tr style=\"text-align: right;\">\n",
       "      <th></th>\n",
       "      <th>Show_Id</th>\n",
       "      <th>Category</th>\n",
       "      <th>Title</th>\n",
       "      <th>Director</th>\n",
       "      <th>Cast</th>\n",
       "      <th>Country</th>\n",
       "      <th>Release_Date</th>\n",
       "      <th>Rating</th>\n",
       "      <th>Duration</th>\n",
       "      <th>Type</th>\n",
       "      <th>Description</th>\n",
       "    </tr>\n",
       "  </thead>\n",
       "  <tbody>\n",
       "    <tr>\n",
       "      <td>0</td>\n",
       "      <td>s1</td>\n",
       "      <td>TV Show</td>\n",
       "      <td>3%</td>\n",
       "      <td>NaN</td>\n",
       "      <td>João Miguel, Bianca Comparato, Michel Gomes, R...</td>\n",
       "      <td>Brazil</td>\n",
       "      <td>August 14, 2020</td>\n",
       "      <td>TV-MA</td>\n",
       "      <td>4 Seasons</td>\n",
       "      <td>International TV Shows, TV Dramas, TV Sci-Fi &amp;...</td>\n",
       "      <td>In a future where the elite inhabit an island ...</td>\n",
       "    </tr>\n",
       "    <tr>\n",
       "      <td>1</td>\n",
       "      <td>s2</td>\n",
       "      <td>Movie</td>\n",
       "      <td>07:19</td>\n",
       "      <td>Jorge Michel Grau</td>\n",
       "      <td>Demián Bichir, Héctor Bonilla, Oscar Serrano, ...</td>\n",
       "      <td>Mexico</td>\n",
       "      <td>December 23, 2016</td>\n",
       "      <td>TV-MA</td>\n",
       "      <td>93 min</td>\n",
       "      <td>Dramas, International Movies</td>\n",
       "      <td>After a devastating earthquake hits Mexico Cit...</td>\n",
       "    </tr>\n",
       "    <tr>\n",
       "      <td>2</td>\n",
       "      <td>s3</td>\n",
       "      <td>Movie</td>\n",
       "      <td>23:59</td>\n",
       "      <td>Gilbert Chan</td>\n",
       "      <td>Tedd Chan, Stella Chung, Henley Hii, Lawrence ...</td>\n",
       "      <td>Singapore</td>\n",
       "      <td>December 20, 2018</td>\n",
       "      <td>R</td>\n",
       "      <td>78 min</td>\n",
       "      <td>Horror Movies, International Movies</td>\n",
       "      <td>When an army recruit is found dead, his fellow...</td>\n",
       "    </tr>\n",
       "    <tr>\n",
       "      <td>3</td>\n",
       "      <td>s4</td>\n",
       "      <td>Movie</td>\n",
       "      <td>9</td>\n",
       "      <td>Shane Acker</td>\n",
       "      <td>Elijah Wood, John C. Reilly, Jennifer Connelly...</td>\n",
       "      <td>United States</td>\n",
       "      <td>November 16, 2017</td>\n",
       "      <td>PG-13</td>\n",
       "      <td>80 min</td>\n",
       "      <td>Action &amp; Adventure, Independent Movies, Sci-Fi...</td>\n",
       "      <td>In a postapocalyptic world, rag-doll robots hi...</td>\n",
       "    </tr>\n",
       "    <tr>\n",
       "      <td>4</td>\n",
       "      <td>s5</td>\n",
       "      <td>Movie</td>\n",
       "      <td>21</td>\n",
       "      <td>Robert Luketic</td>\n",
       "      <td>Jim Sturgess, Kevin Spacey, Kate Bosworth, Aar...</td>\n",
       "      <td>United States</td>\n",
       "      <td>January 1, 2020</td>\n",
       "      <td>PG-13</td>\n",
       "      <td>123 min</td>\n",
       "      <td>Dramas</td>\n",
       "      <td>A brilliant group of students become card-coun...</td>\n",
       "    </tr>\n",
       "  </tbody>\n",
       "</table>\n",
       "</div>"
      ],
      "text/plain": [
       "  Show_Id Category  Title           Director  \\\n",
       "0      s1  TV Show     3%                NaN   \n",
       "1      s2    Movie  07:19  Jorge Michel Grau   \n",
       "2      s3    Movie  23:59       Gilbert Chan   \n",
       "3      s4    Movie      9        Shane Acker   \n",
       "4      s5    Movie     21     Robert Luketic   \n",
       "\n",
       "                                                Cast        Country  \\\n",
       "0  João Miguel, Bianca Comparato, Michel Gomes, R...         Brazil   \n",
       "1  Demián Bichir, Héctor Bonilla, Oscar Serrano, ...         Mexico   \n",
       "2  Tedd Chan, Stella Chung, Henley Hii, Lawrence ...      Singapore   \n",
       "3  Elijah Wood, John C. Reilly, Jennifer Connelly...  United States   \n",
       "4  Jim Sturgess, Kevin Spacey, Kate Bosworth, Aar...  United States   \n",
       "\n",
       "        Release_Date Rating   Duration  \\\n",
       "0    August 14, 2020  TV-MA  4 Seasons   \n",
       "1  December 23, 2016  TV-MA     93 min   \n",
       "2  December 20, 2018      R     78 min   \n",
       "3  November 16, 2017  PG-13     80 min   \n",
       "4    January 1, 2020  PG-13    123 min   \n",
       "\n",
       "                                                Type  \\\n",
       "0  International TV Shows, TV Dramas, TV Sci-Fi &...   \n",
       "1                       Dramas, International Movies   \n",
       "2                Horror Movies, International Movies   \n",
       "3  Action & Adventure, Independent Movies, Sci-Fi...   \n",
       "4                                             Dramas   \n",
       "\n",
       "                                         Description  \n",
       "0  In a future where the elite inhabit an island ...  \n",
       "1  After a devastating earthquake hits Mexico Cit...  \n",
       "2  When an army recruit is found dead, his fellow...  \n",
       "3  In a postapocalyptic world, rag-doll robots hi...  \n",
       "4  A brilliant group of students become card-coun...  "
      ]
     },
     "execution_count": 57,
     "metadata": {},
     "output_type": "execute_result"
    }
   ],
   "source": [
    "Data.head()"
   ]
  },
  {
   "cell_type": "code",
   "execution_count": 58,
   "metadata": {},
   "outputs": [
    {
     "data": {
      "text/plain": [
       "(7789, 11)"
      ]
     },
     "execution_count": 58,
     "metadata": {},
     "output_type": "execute_result"
    }
   ],
   "source": [
    "Data.shape"
   ]
  },
  {
   "cell_type": "code",
   "execution_count": 59,
   "metadata": {},
   "outputs": [
    {
     "name": "stdout",
     "output_type": "stream",
     "text": [
      "<class 'pandas.core.frame.DataFrame'>\n",
      "RangeIndex: 7789 entries, 0 to 7788\n",
      "Data columns (total 11 columns):\n",
      "Show_Id         7789 non-null object\n",
      "Category        7789 non-null object\n",
      "Title           7789 non-null object\n",
      "Director        5401 non-null object\n",
      "Cast            7071 non-null object\n",
      "Country         7282 non-null object\n",
      "Release_Date    7779 non-null object\n",
      "Rating          7782 non-null object\n",
      "Duration        7789 non-null object\n",
      "Type            7789 non-null object\n",
      "Description     7789 non-null object\n",
      "dtypes: object(11)\n",
      "memory usage: 669.5+ KB\n"
     ]
    }
   ],
   "source": [
    "Data.info()"
   ]
  },
  {
   "cell_type": "code",
   "execution_count": 60,
   "metadata": {},
   "outputs": [
    {
     "data": {
      "text/html": [
       "<div>\n",
       "<style scoped>\n",
       "    .dataframe tbody tr th:only-of-type {\n",
       "        vertical-align: middle;\n",
       "    }\n",
       "\n",
       "    .dataframe tbody tr th {\n",
       "        vertical-align: top;\n",
       "    }\n",
       "\n",
       "    .dataframe thead th {\n",
       "        text-align: right;\n",
       "    }\n",
       "</style>\n",
       "<table border=\"1\" class=\"dataframe\">\n",
       "  <thead>\n",
       "    <tr style=\"text-align: right;\">\n",
       "      <th></th>\n",
       "      <th>Show_Id</th>\n",
       "      <th>Category</th>\n",
       "      <th>Title</th>\n",
       "      <th>Director</th>\n",
       "      <th>Cast</th>\n",
       "      <th>Country</th>\n",
       "      <th>Release_Date</th>\n",
       "      <th>Rating</th>\n",
       "      <th>Duration</th>\n",
       "      <th>Type</th>\n",
       "      <th>Description</th>\n",
       "    </tr>\n",
       "  </thead>\n",
       "  <tbody>\n",
       "    <tr>\n",
       "      <td>count</td>\n",
       "      <td>7789</td>\n",
       "      <td>7789</td>\n",
       "      <td>7789</td>\n",
       "      <td>5401</td>\n",
       "      <td>7071</td>\n",
       "      <td>7282</td>\n",
       "      <td>7779</td>\n",
       "      <td>7782</td>\n",
       "      <td>7789</td>\n",
       "      <td>7789</td>\n",
       "      <td>7789</td>\n",
       "    </tr>\n",
       "    <tr>\n",
       "      <td>unique</td>\n",
       "      <td>7787</td>\n",
       "      <td>2</td>\n",
       "      <td>7787</td>\n",
       "      <td>4050</td>\n",
       "      <td>6831</td>\n",
       "      <td>681</td>\n",
       "      <td>1565</td>\n",
       "      <td>14</td>\n",
       "      <td>216</td>\n",
       "      <td>492</td>\n",
       "      <td>7769</td>\n",
       "    </tr>\n",
       "    <tr>\n",
       "      <td>top</td>\n",
       "      <td>s6621</td>\n",
       "      <td>Movie</td>\n",
       "      <td>Backfire</td>\n",
       "      <td>Raúl Campos, Jan Suter</td>\n",
       "      <td>David Attenborough</td>\n",
       "      <td>United States</td>\n",
       "      <td>January 1, 2020</td>\n",
       "      <td>TV-MA</td>\n",
       "      <td>1 Season</td>\n",
       "      <td>Documentaries</td>\n",
       "      <td>Multiple women report their husbands as missin...</td>\n",
       "    </tr>\n",
       "    <tr>\n",
       "      <td>freq</td>\n",
       "      <td>2</td>\n",
       "      <td>5379</td>\n",
       "      <td>2</td>\n",
       "      <td>18</td>\n",
       "      <td>18</td>\n",
       "      <td>2556</td>\n",
       "      <td>118</td>\n",
       "      <td>2865</td>\n",
       "      <td>1608</td>\n",
       "      <td>334</td>\n",
       "      <td>3</td>\n",
       "    </tr>\n",
       "  </tbody>\n",
       "</table>\n",
       "</div>"
      ],
      "text/plain": [
       "       Show_Id Category     Title                Director                Cast  \\\n",
       "count     7789     7789      7789                    5401                7071   \n",
       "unique    7787        2      7787                    4050                6831   \n",
       "top      s6621    Movie  Backfire  Raúl Campos, Jan Suter  David Attenborough   \n",
       "freq         2     5379         2                      18                  18   \n",
       "\n",
       "              Country     Release_Date Rating  Duration           Type  \\\n",
       "count            7282             7779   7782      7789           7789   \n",
       "unique            681             1565     14       216            492   \n",
       "top     United States  January 1, 2020  TV-MA  1 Season  Documentaries   \n",
       "freq             2556              118   2865      1608            334   \n",
       "\n",
       "                                              Description  \n",
       "count                                                7789  \n",
       "unique                                               7769  \n",
       "top     Multiple women report their husbands as missin...  \n",
       "freq                                                    3  "
      ]
     },
     "execution_count": 60,
     "metadata": {},
     "output_type": "execute_result"
    }
   ],
   "source": [
    "Data.describe(include=\"all\")"
   ]
  },
  {
   "cell_type": "code",
   "execution_count": 61,
   "metadata": {},
   "outputs": [
    {
     "data": {
      "text/plain": [
       "Index(['Show_Id', 'Category', 'Title', 'Director', 'Cast', 'Country',\n",
       "       'Release_Date', 'Rating', 'Duration', 'Type', 'Description'],\n",
       "      dtype='object')"
      ]
     },
     "execution_count": 61,
     "metadata": {},
     "output_type": "execute_result"
    }
   ],
   "source": [
    "Data.columns"
   ]
  },
  {
   "cell_type": "code",
   "execution_count": 62,
   "metadata": {},
   "outputs": [],
   "source": [
    "# Data Cleaning"
   ]
  },
  {
   "cell_type": "code",
   "execution_count": 63,
   "metadata": {},
   "outputs": [
    {
     "data": {
      "text/html": [
       "<div>\n",
       "<style scoped>\n",
       "    .dataframe tbody tr th:only-of-type {\n",
       "        vertical-align: middle;\n",
       "    }\n",
       "\n",
       "    .dataframe tbody tr th {\n",
       "        vertical-align: top;\n",
       "    }\n",
       "\n",
       "    .dataframe thead th {\n",
       "        text-align: right;\n",
       "    }\n",
       "</style>\n",
       "<table border=\"1\" class=\"dataframe\">\n",
       "  <thead>\n",
       "    <tr style=\"text-align: right;\">\n",
       "      <th></th>\n",
       "      <th>Show_Id</th>\n",
       "      <th>Category</th>\n",
       "      <th>Title</th>\n",
       "      <th>Director</th>\n",
       "      <th>Cast</th>\n",
       "      <th>Country</th>\n",
       "      <th>Release_Date</th>\n",
       "      <th>Rating</th>\n",
       "      <th>Duration</th>\n",
       "      <th>Type</th>\n",
       "      <th>Description</th>\n",
       "    </tr>\n",
       "  </thead>\n",
       "  <tbody>\n",
       "    <tr>\n",
       "      <td>6300</td>\n",
       "      <td>s684</td>\n",
       "      <td>Movie</td>\n",
       "      <td>Backfire</td>\n",
       "      <td>Dave Patten</td>\n",
       "      <td>Black Deniro, Byron \"Squally\" Vinson, Dominic ...</td>\n",
       "      <td>United States</td>\n",
       "      <td>April 5, 2019</td>\n",
       "      <td>TV-MA</td>\n",
       "      <td>97 min</td>\n",
       "      <td>Dramas, Independent Movies, Thrillers</td>\n",
       "      <td>When two would-be robbers accidentally kill a ...</td>\n",
       "    </tr>\n",
       "    <tr>\n",
       "      <td>6622</td>\n",
       "      <td>s6621</td>\n",
       "      <td>Movie</td>\n",
       "      <td>The Lost Okoroshi</td>\n",
       "      <td>Abba T. Makama</td>\n",
       "      <td>Seun Ajayi, Judith Audu, Tope Tedela, Ifu Enna...</td>\n",
       "      <td>Nigeria</td>\n",
       "      <td>September 4, 2020</td>\n",
       "      <td>TV-MA</td>\n",
       "      <td>94 min</td>\n",
       "      <td>Comedies, Dramas, Independent Movies</td>\n",
       "      <td>A disillusioned security guard transforms into...</td>\n",
       "    </tr>\n",
       "  </tbody>\n",
       "</table>\n",
       "</div>"
      ],
      "text/plain": [
       "     Show_Id Category              Title        Director  \\\n",
       "6300    s684    Movie           Backfire     Dave Patten   \n",
       "6622   s6621    Movie  The Lost Okoroshi  Abba T. Makama   \n",
       "\n",
       "                                                   Cast        Country  \\\n",
       "6300  Black Deniro, Byron \"Squally\" Vinson, Dominic ...  United States   \n",
       "6622  Seun Ajayi, Judith Audu, Tope Tedela, Ifu Enna...        Nigeria   \n",
       "\n",
       "           Release_Date Rating Duration  \\\n",
       "6300      April 5, 2019  TV-MA   97 min   \n",
       "6622  September 4, 2020  TV-MA   94 min   \n",
       "\n",
       "                                       Type  \\\n",
       "6300  Dramas, Independent Movies, Thrillers   \n",
       "6622   Comedies, Dramas, Independent Movies   \n",
       "\n",
       "                                            Description  \n",
       "6300  When two would-be robbers accidentally kill a ...  \n",
       "6622  A disillusioned security guard transforms into...  "
      ]
     },
     "execution_count": 63,
     "metadata": {},
     "output_type": "execute_result"
    }
   ],
   "source": [
    "Data[Data.duplicated()]"
   ]
  },
  {
   "cell_type": "code",
   "execution_count": 64,
   "metadata": {},
   "outputs": [
    {
     "data": {
      "text/html": [
       "<div>\n",
       "<style scoped>\n",
       "    .dataframe tbody tr th:only-of-type {\n",
       "        vertical-align: middle;\n",
       "    }\n",
       "\n",
       "    .dataframe tbody tr th {\n",
       "        vertical-align: top;\n",
       "    }\n",
       "\n",
       "    .dataframe thead th {\n",
       "        text-align: right;\n",
       "    }\n",
       "</style>\n",
       "<table border=\"1\" class=\"dataframe\">\n",
       "  <thead>\n",
       "    <tr style=\"text-align: right;\">\n",
       "      <th></th>\n",
       "      <th>Show_Id</th>\n",
       "      <th>Category</th>\n",
       "      <th>Title</th>\n",
       "      <th>Director</th>\n",
       "      <th>Cast</th>\n",
       "      <th>Country</th>\n",
       "      <th>Release_Date</th>\n",
       "      <th>Rating</th>\n",
       "      <th>Duration</th>\n",
       "      <th>Type</th>\n",
       "      <th>Description</th>\n",
       "    </tr>\n",
       "  </thead>\n",
       "  <tbody>\n",
       "    <tr>\n",
       "      <td>0</td>\n",
       "      <td>s1</td>\n",
       "      <td>TV Show</td>\n",
       "      <td>3%</td>\n",
       "      <td>NaN</td>\n",
       "      <td>João Miguel, Bianca Comparato, Michel Gomes, R...</td>\n",
       "      <td>Brazil</td>\n",
       "      <td>August 14, 2020</td>\n",
       "      <td>TV-MA</td>\n",
       "      <td>4 Seasons</td>\n",
       "      <td>International TV Shows, TV Dramas, TV Sci-Fi &amp;...</td>\n",
       "      <td>In a future where the elite inhabit an island ...</td>\n",
       "    </tr>\n",
       "    <tr>\n",
       "      <td>1</td>\n",
       "      <td>s2</td>\n",
       "      <td>Movie</td>\n",
       "      <td>07:19</td>\n",
       "      <td>Jorge Michel Grau</td>\n",
       "      <td>Demián Bichir, Héctor Bonilla, Oscar Serrano, ...</td>\n",
       "      <td>Mexico</td>\n",
       "      <td>December 23, 2016</td>\n",
       "      <td>TV-MA</td>\n",
       "      <td>93 min</td>\n",
       "      <td>Dramas, International Movies</td>\n",
       "      <td>After a devastating earthquake hits Mexico Cit...</td>\n",
       "    </tr>\n",
       "    <tr>\n",
       "      <td>2</td>\n",
       "      <td>s3</td>\n",
       "      <td>Movie</td>\n",
       "      <td>23:59</td>\n",
       "      <td>Gilbert Chan</td>\n",
       "      <td>Tedd Chan, Stella Chung, Henley Hii, Lawrence ...</td>\n",
       "      <td>Singapore</td>\n",
       "      <td>December 20, 2018</td>\n",
       "      <td>R</td>\n",
       "      <td>78 min</td>\n",
       "      <td>Horror Movies, International Movies</td>\n",
       "      <td>When an army recruit is found dead, his fellow...</td>\n",
       "    </tr>\n",
       "    <tr>\n",
       "      <td>3</td>\n",
       "      <td>s4</td>\n",
       "      <td>Movie</td>\n",
       "      <td>9</td>\n",
       "      <td>Shane Acker</td>\n",
       "      <td>Elijah Wood, John C. Reilly, Jennifer Connelly...</td>\n",
       "      <td>United States</td>\n",
       "      <td>November 16, 2017</td>\n",
       "      <td>PG-13</td>\n",
       "      <td>80 min</td>\n",
       "      <td>Action &amp; Adventure, Independent Movies, Sci-Fi...</td>\n",
       "      <td>In a postapocalyptic world, rag-doll robots hi...</td>\n",
       "    </tr>\n",
       "    <tr>\n",
       "      <td>4</td>\n",
       "      <td>s5</td>\n",
       "      <td>Movie</td>\n",
       "      <td>21</td>\n",
       "      <td>Robert Luketic</td>\n",
       "      <td>Jim Sturgess, Kevin Spacey, Kate Bosworth, Aar...</td>\n",
       "      <td>United States</td>\n",
       "      <td>January 1, 2020</td>\n",
       "      <td>PG-13</td>\n",
       "      <td>123 min</td>\n",
       "      <td>Dramas</td>\n",
       "      <td>A brilliant group of students become card-coun...</td>\n",
       "    </tr>\n",
       "    <tr>\n",
       "      <td>...</td>\n",
       "      <td>...</td>\n",
       "      <td>...</td>\n",
       "      <td>...</td>\n",
       "      <td>...</td>\n",
       "      <td>...</td>\n",
       "      <td>...</td>\n",
       "      <td>...</td>\n",
       "      <td>...</td>\n",
       "      <td>...</td>\n",
       "      <td>...</td>\n",
       "      <td>...</td>\n",
       "    </tr>\n",
       "    <tr>\n",
       "      <td>7784</td>\n",
       "      <td>s7783</td>\n",
       "      <td>Movie</td>\n",
       "      <td>Zozo</td>\n",
       "      <td>Josef Fares</td>\n",
       "      <td>Imad Creidi, Antoinette Turk, Elias Gergi, Car...</td>\n",
       "      <td>Sweden, Czech Republic, United Kingdom, Denmar...</td>\n",
       "      <td>October 19, 2020</td>\n",
       "      <td>TV-MA</td>\n",
       "      <td>99 min</td>\n",
       "      <td>Dramas, International Movies</td>\n",
       "      <td>When Lebanon's Civil War deprives Zozo of his ...</td>\n",
       "    </tr>\n",
       "    <tr>\n",
       "      <td>7785</td>\n",
       "      <td>s7784</td>\n",
       "      <td>Movie</td>\n",
       "      <td>Zubaan</td>\n",
       "      <td>Mozez Singh</td>\n",
       "      <td>Vicky Kaushal, Sarah-Jane Dias, Raaghav Chanan...</td>\n",
       "      <td>India</td>\n",
       "      <td>March 2, 2019</td>\n",
       "      <td>TV-14</td>\n",
       "      <td>111 min</td>\n",
       "      <td>Dramas, International Movies, Music &amp; Musicals</td>\n",
       "      <td>A scrappy but poor boy worms his way into a ty...</td>\n",
       "    </tr>\n",
       "    <tr>\n",
       "      <td>7786</td>\n",
       "      <td>s7785</td>\n",
       "      <td>Movie</td>\n",
       "      <td>Zulu Man in Japan</td>\n",
       "      <td>NaN</td>\n",
       "      <td>Nasty C</td>\n",
       "      <td>NaN</td>\n",
       "      <td>September 25, 2020</td>\n",
       "      <td>TV-MA</td>\n",
       "      <td>44 min</td>\n",
       "      <td>Documentaries, International Movies, Music &amp; M...</td>\n",
       "      <td>In this documentary, South African rapper Nast...</td>\n",
       "    </tr>\n",
       "    <tr>\n",
       "      <td>7787</td>\n",
       "      <td>s7786</td>\n",
       "      <td>TV Show</td>\n",
       "      <td>Zumbo's Just Desserts</td>\n",
       "      <td>NaN</td>\n",
       "      <td>Adriano Zumbo, Rachel Khoo</td>\n",
       "      <td>Australia</td>\n",
       "      <td>October 31, 2020</td>\n",
       "      <td>TV-PG</td>\n",
       "      <td>1 Season</td>\n",
       "      <td>International TV Shows, Reality TV</td>\n",
       "      <td>Dessert wizard Adriano Zumbo looks for the nex...</td>\n",
       "    </tr>\n",
       "    <tr>\n",
       "      <td>7788</td>\n",
       "      <td>s7787</td>\n",
       "      <td>Movie</td>\n",
       "      <td>ZZ TOP: THAT LITTLE OL' BAND FROM TEXAS</td>\n",
       "      <td>Sam Dunn</td>\n",
       "      <td>NaN</td>\n",
       "      <td>United Kingdom, Canada, United States</td>\n",
       "      <td>March 1, 2020</td>\n",
       "      <td>TV-MA</td>\n",
       "      <td>90 min</td>\n",
       "      <td>Documentaries, Music &amp; Musicals</td>\n",
       "      <td>This documentary delves into the mystique behi...</td>\n",
       "    </tr>\n",
       "  </tbody>\n",
       "</table>\n",
       "<p>7787 rows × 11 columns</p>\n",
       "</div>"
      ],
      "text/plain": [
       "     Show_Id Category                                    Title  \\\n",
       "0         s1  TV Show                                       3%   \n",
       "1         s2    Movie                                    07:19   \n",
       "2         s3    Movie                                    23:59   \n",
       "3         s4    Movie                                        9   \n",
       "4         s5    Movie                                       21   \n",
       "...      ...      ...                                      ...   \n",
       "7784   s7783    Movie                                     Zozo   \n",
       "7785   s7784    Movie                                   Zubaan   \n",
       "7786   s7785    Movie                        Zulu Man in Japan   \n",
       "7787   s7786  TV Show                    Zumbo's Just Desserts   \n",
       "7788   s7787    Movie  ZZ TOP: THAT LITTLE OL' BAND FROM TEXAS   \n",
       "\n",
       "               Director                                               Cast  \\\n",
       "0                   NaN  João Miguel, Bianca Comparato, Michel Gomes, R...   \n",
       "1     Jorge Michel Grau  Demián Bichir, Héctor Bonilla, Oscar Serrano, ...   \n",
       "2          Gilbert Chan  Tedd Chan, Stella Chung, Henley Hii, Lawrence ...   \n",
       "3           Shane Acker  Elijah Wood, John C. Reilly, Jennifer Connelly...   \n",
       "4        Robert Luketic  Jim Sturgess, Kevin Spacey, Kate Bosworth, Aar...   \n",
       "...                 ...                                                ...   \n",
       "7784        Josef Fares  Imad Creidi, Antoinette Turk, Elias Gergi, Car...   \n",
       "7785        Mozez Singh  Vicky Kaushal, Sarah-Jane Dias, Raaghav Chanan...   \n",
       "7786                NaN                                            Nasty C   \n",
       "7787                NaN                         Adriano Zumbo, Rachel Khoo   \n",
       "7788           Sam Dunn                                                NaN   \n",
       "\n",
       "                                                Country        Release_Date  \\\n",
       "0                                                Brazil     August 14, 2020   \n",
       "1                                                Mexico   December 23, 2016   \n",
       "2                                             Singapore   December 20, 2018   \n",
       "3                                         United States   November 16, 2017   \n",
       "4                                         United States     January 1, 2020   \n",
       "...                                                 ...                 ...   \n",
       "7784  Sweden, Czech Republic, United Kingdom, Denmar...    October 19, 2020   \n",
       "7785                                              India       March 2, 2019   \n",
       "7786                                                NaN  September 25, 2020   \n",
       "7787                                          Australia    October 31, 2020   \n",
       "7788              United Kingdom, Canada, United States       March 1, 2020   \n",
       "\n",
       "     Rating   Duration                                               Type  \\\n",
       "0     TV-MA  4 Seasons  International TV Shows, TV Dramas, TV Sci-Fi &...   \n",
       "1     TV-MA     93 min                       Dramas, International Movies   \n",
       "2         R     78 min                Horror Movies, International Movies   \n",
       "3     PG-13     80 min  Action & Adventure, Independent Movies, Sci-Fi...   \n",
       "4     PG-13    123 min                                             Dramas   \n",
       "...     ...        ...                                                ...   \n",
       "7784  TV-MA     99 min                       Dramas, International Movies   \n",
       "7785  TV-14    111 min     Dramas, International Movies, Music & Musicals   \n",
       "7786  TV-MA     44 min  Documentaries, International Movies, Music & M...   \n",
       "7787  TV-PG   1 Season                 International TV Shows, Reality TV   \n",
       "7788  TV-MA     90 min                    Documentaries, Music & Musicals   \n",
       "\n",
       "                                            Description  \n",
       "0     In a future where the elite inhabit an island ...  \n",
       "1     After a devastating earthquake hits Mexico Cit...  \n",
       "2     When an army recruit is found dead, his fellow...  \n",
       "3     In a postapocalyptic world, rag-doll robots hi...  \n",
       "4     A brilliant group of students become card-coun...  \n",
       "...                                                 ...  \n",
       "7784  When Lebanon's Civil War deprives Zozo of his ...  \n",
       "7785  A scrappy but poor boy worms his way into a ty...  \n",
       "7786  In this documentary, South African rapper Nast...  \n",
       "7787  Dessert wizard Adriano Zumbo looks for the nex...  \n",
       "7788  This documentary delves into the mystique behi...  \n",
       "\n",
       "[7787 rows x 11 columns]"
      ]
     },
     "execution_count": 64,
     "metadata": {},
     "output_type": "execute_result"
    }
   ],
   "source": [
    "Data.drop_duplicates()"
   ]
  },
  {
   "cell_type": "code",
   "execution_count": 65,
   "metadata": {},
   "outputs": [
    {
     "data": {
      "text/plain": [
       "Show_Id            0\n",
       "Category           0\n",
       "Title              0\n",
       "Director        2388\n",
       "Cast             718\n",
       "Country          507\n",
       "Release_Date      10\n",
       "Rating             7\n",
       "Duration           0\n",
       "Type               0\n",
       "Description        0\n",
       "dtype: int64"
      ]
     },
     "execution_count": 65,
     "metadata": {},
     "output_type": "execute_result"
    }
   ],
   "source": [
    "Data.isnull().sum()"
   ]
  },
  {
   "cell_type": "code",
   "execution_count": 66,
   "metadata": {},
   "outputs": [
    {
     "data": {
      "text/plain": [
       "<matplotlib.axes._subplots.AxesSubplot at 0x22d53261b48>"
      ]
     },
     "execution_count": 66,
     "metadata": {},
     "output_type": "execute_result"
    },
    {
     "data": {
      "image/png": "[encoded data removed]",
      "text/plain": [
       "<Figure size 432x288 with 2 Axes>"
      ]
     },
     "metadata": {},
     "output_type": "display_data"
    }
   ],
   "source": [
    "sns.heatmap(Data.isnull())"
   ]
  },
  {
   "cell_type": "code",
   "execution_count": 67,
   "metadata": {},
   "outputs": [],
   "source": [
    "Data['Director']=Data['Director'].fillna(0)\n",
    "Data['Cast']=Data['Cast'].fillna(0)\n",
    "Data['Country']=Data['Country'].fillna(0)\n",
    "Data['Release_Date']=Data['Release_Date'].fillna(0)\n",
    "Data['Rating']=Data['Rating'].fillna(0)"
   ]
  },
  {
   "cell_type": "code",
   "execution_count": 68,
   "metadata": {},
   "outputs": [
    {
     "data": {
      "text/plain": [
       "<matplotlib.axes._subplots.AxesSubplot at 0x22d53139ac8>"
      ]
     },
     "execution_count": 68,
     "metadata": {},
     "output_type": "execute_result"
    },
    {
     "data": {
      "image/png": "[encoded data removed]",
      "text/plain": [
       "<Figure size 432x288 with 2 Axes>"
      ]
     },
     "metadata": {},
     "output_type": "display_data"
    }
   ],
   "source": [
    "sns.heatmap(Data.isnull())"
   ]
  },
  {
   "cell_type": "code",
   "execution_count": 69,
   "metadata": {},
   "outputs": [],
   "source": [
    "#Number of TV Shows and Movies Till Now Released"
   ]
  },
  {
   "cell_type": "code",
   "execution_count": 70,
   "metadata": {},
   "outputs": [],
   "source": [
    "#Creating New Column\n",
    "Data['Release Date']=pd.to_datetime(Data['Release_Date'])\n",
    "Data['Year']=Data['Release Date'].dt.year"
   ]
  },
  {
   "cell_type": "code",
   "execution_count": 71,
   "metadata": {},
   "outputs": [
    {
     "data": {
      "text/html": [
       "<div>\n",
       "<style scoped>\n",
       "    .dataframe tbody tr th:only-of-type {\n",
       "        vertical-align: middle;\n",
       "    }\n",
       "\n",
       "    .dataframe tbody tr th {\n",
       "        vertical-align: top;\n",
       "    }\n",
       "\n",
       "    .dataframe thead th {\n",
       "        text-align: right;\n",
       "    }\n",
       "</style>\n",
       "<table border=\"1\" class=\"dataframe\">\n",
       "  <thead>\n",
       "    <tr style=\"text-align: right;\">\n",
       "      <th></th>\n",
       "      <th>Show_Id</th>\n",
       "      <th>Category</th>\n",
       "      <th>Title</th>\n",
       "      <th>Director</th>\n",
       "      <th>Cast</th>\n",
       "      <th>Country</th>\n",
       "      <th>Release_Date</th>\n",
       "      <th>Rating</th>\n",
       "      <th>Duration</th>\n",
       "      <th>Type</th>\n",
       "      <th>Description</th>\n",
       "      <th>Release Date</th>\n",
       "      <th>Year</th>\n",
       "    </tr>\n",
       "  </thead>\n",
       "  <tbody>\n",
       "    <tr>\n",
       "      <td>0</td>\n",
       "      <td>s1</td>\n",
       "      <td>TV Show</td>\n",
       "      <td>3%</td>\n",
       "      <td>0</td>\n",
       "      <td>João Miguel, Bianca Comparato, Michel Gomes, R...</td>\n",
       "      <td>Brazil</td>\n",
       "      <td>August 14, 2020</td>\n",
       "      <td>TV-MA</td>\n",
       "      <td>4 Seasons</td>\n",
       "      <td>International TV Shows, TV Dramas, TV Sci-Fi &amp;...</td>\n",
       "      <td>In a future where the elite inhabit an island ...</td>\n",
       "      <td>2020-08-14</td>\n",
       "      <td>2020</td>\n",
       "    </tr>\n",
       "  </tbody>\n",
       "</table>\n",
       "</div>"
      ],
      "text/plain": [
       "  Show_Id Category Title Director  \\\n",
       "0      s1  TV Show    3%        0   \n",
       "\n",
       "                                                Cast Country     Release_Date  \\\n",
       "0  João Miguel, Bianca Comparato, Michel Gomes, R...  Brazil  August 14, 2020   \n",
       "\n",
       "  Rating   Duration                                               Type  \\\n",
       "0  TV-MA  4 Seasons  International TV Shows, TV Dramas, TV Sci-Fi &...   \n",
       "\n",
       "                                         Description Release Date  Year  \n",
       "0  In a future where the elite inhabit an island ...   2020-08-14  2020  "
      ]
     },
     "execution_count": 71,
     "metadata": {},
     "output_type": "execute_result"
    }
   ],
   "source": [
    "Data.head(1)"
   ]
  },
  {
   "cell_type": "code",
   "execution_count": 72,
   "metadata": {},
   "outputs": [
    {
     "data": {
      "text/plain": [
       "2019    2154\n",
       "2020    2010\n",
       "2018    1685\n",
       "2017    1225\n",
       "2016     443\n",
       "2021     117\n",
       "2015      88\n",
       "2014      25\n",
       "2011      13\n",
       "2013      11\n",
       "1970      10\n",
       "2012       3\n",
       "2008       2\n",
       "2009       2\n",
       "2010       1\n",
       "Name: Release Date, dtype: int64"
      ]
     },
     "execution_count": 72,
     "metadata": {},
     "output_type": "execute_result"
    }
   ],
   "source": [
    "Year=Data['Release Date'].dt.year.value_counts().sort_values(ascending=False)\n",
    "Year"
   ]
  },
  {
   "cell_type": "code",
   "execution_count": 73,
   "metadata": {},
   "outputs": [
    {
     "data": {
      "image/png": "[encoded data removed]",
      "text/plain": [
       "<Figure size 720x360 with 1 Axes>"
      ]
     },
     "metadata": {},
     "output_type": "display_data"
    }
   ],
   "source": [
    "plt.figure(figsize=(10,5))\n",
    "ax = sns.countplot(y=\"Year\", data=Data, palette=\"bright\", order=Data['Year'].value_counts().index[0:15])\n",
    "plt.title(\"Number of TV Shows and Movies were Released\",size=15,color='black')\n",
    "sns.set_style('darkgrid')\n",
    "plt.show()"
   ]
  },
  {
   "cell_type": "code",
   "execution_count": 74,
   "metadata": {},
   "outputs": [],
   "source": [
    "# TV Shows and Movies Released by Category"
   ]
  },
  {
   "cell_type": "code",
   "execution_count": 75,
   "metadata": {},
   "outputs": [
    {
     "data": {
      "text/plain": [
       "Category\n",
       "Movie      5379\n",
       "TV Show    2410\n",
       "Name: Category, dtype: int64"
      ]
     },
     "execution_count": 75,
     "metadata": {},
     "output_type": "execute_result"
    }
   ],
   "source": [
    "Data.groupby('Category').Category.count()"
   ]
  },
  {
   "cell_type": "code",
   "execution_count": 107,
   "metadata": {},
   "outputs": [
    {
     "data": {
      "image/png": "[encoded data removed]",
      "text/plain": [
       "<Figure size 360x360 with 1 Axes>"
      ]
     },
     "metadata": {},
     "output_type": "display_data"
    }
   ],
   "source": [
    "plt.figure(figsize=(5,5))\n",
    "sns.countplot(x='Category',data=Data)\n",
    "plt.title(\"TV Shows and Movies Released Count by Category\",size=15,color='black')\n",
    "sns.set_style('darkgrid')\n",
    "plt.show()"
   ]
  },
  {
   "cell_type": "code",
   "execution_count": 108,
   "metadata": {},
   "outputs": [
    {
     "data": {
      "image/png": "[encoded data removed]",
      "text/plain": [
       "<Figure size 720x360 with 1 Axes>"
      ]
     },
     "metadata": {},
     "output_type": "display_data"
    }
   ],
   "source": [
    "Data['Category'].value_counts().plot.pie(autopct='%1.1f%%',figsize=(10,5))\n",
    "plt.title(\"TV Shows and Movies Released by %\",size=15,color='black')\n",
    "plt.legend(bbox_to_anchor=(1,1),loc=1)\n",
    "sns.set_style('darkgrid')\n",
    "plt.show()"
   ]
  },
  {
   "cell_type": "code",
   "execution_count": 78,
   "metadata": {},
   "outputs": [],
   "source": [
    "#Netflix Rating"
   ]
  },
  {
   "cell_type": "code",
   "execution_count": 79,
   "metadata": {},
   "outputs": [
    {
     "data": {
      "text/plain": [
       "15"
      ]
     },
     "execution_count": 79,
     "metadata": {},
     "output_type": "execute_result"
    }
   ],
   "source": [
    "Data['Rating'].nunique()"
   ]
  },
  {
   "cell_type": "code",
   "execution_count": 80,
   "metadata": {},
   "outputs": [
    {
     "data": {
      "text/plain": [
       "array(['TV-MA', 'R', 'PG-13', 'TV-14', 'TV-PG', 'NR', 'TV-G', 'TV-Y', 0,\n",
       "       'TV-Y7', 'PG', 'G', 'NC-17', 'TV-Y7-FV', 'UR'], dtype=object)"
      ]
     },
     "execution_count": 80,
     "metadata": {},
     "output_type": "execute_result"
    }
   ],
   "source": [
    "Data['Rating'].unique()"
   ]
  },
  {
   "cell_type": "code",
   "execution_count": 81,
   "metadata": {},
   "outputs": [
    {
     "data": {
      "image/png": "[encoded data removed]",
      "text/plain": [
       "<Figure size 720x360 with 1 Axes>"
      ]
     },
     "metadata": {},
     "output_type": "display_data"
    }
   ],
   "source": [
    "plt.figure(figsize=(10,5))\n",
    "sns.set(style=\"white\")\n",
    "ax = sns.countplot(x=\"Rating\", data=Data, order=Data['Rating'].value_counts().index[0:15])\n",
    "plt.title(\"Netflix Rating\",size=15,color='black')\n",
    "plt.show()"
   ]
  },
  {
   "cell_type": "code",
   "execution_count": 82,
   "metadata": {},
   "outputs": [],
   "source": [
    "#Finding Each Category with Rating"
   ]
  },
  {
   "cell_type": "code",
   "execution_count": 83,
   "metadata": {},
   "outputs": [
    {
     "data": {
      "image/png": "[encoded data removed]",
      "text/plain": [
       "<Figure size 720x360 with 1 Axes>"
      ]
     },
     "metadata": {},
     "output_type": "display_data"
    }
   ],
   "source": [
    "plt.figure(figsize=(10,5))\n",
    "sns.countplot(x='Rating',hue='Category',data=Data)\n",
    "plt.title('Each Category with Rating',size=15,color='black')\n",
    "plt.legend(bbox_to_anchor=(1,1),loc=1)\n",
    "plt.show()"
   ]
  },
  {
   "cell_type": "code",
   "execution_count": 84,
   "metadata": {},
   "outputs": [],
   "source": [
    "#Duration of Movies and TV Shows"
   ]
  },
  {
   "cell_type": "code",
   "execution_count": 85,
   "metadata": {},
   "outputs": [
    {
     "data": {
      "text/plain": [
       "216"
      ]
     },
     "execution_count": 85,
     "metadata": {},
     "output_type": "execute_result"
    }
   ],
   "source": [
    "Data['Duration'].nunique()"
   ]
  },
  {
   "cell_type": "code",
   "execution_count": 86,
   "metadata": {},
   "outputs": [
    {
     "data": {
      "text/plain": [
       "array(['4 Seasons', '93 min', '78 min', '80 min', '123 min', '1 Season',\n",
       "       '95 min', '119 min', '118 min', '143 min', '103 min', '89 min',\n",
       "       '91 min', '149 min', '144 min', '124 min', '87 min', '110 min',\n",
       "       '128 min', '117 min', '100 min', '2 Seasons', '84 min', '99 min',\n",
       "       '90 min', '102 min', '104 min', '105 min', '56 min', '125 min',\n",
       "       '81 min', '97 min', '106 min', '107 min', '109 min', '44 min',\n",
       "       '75 min', '101 min', '3 Seasons', '37 min', '113 min', '114 min',\n",
       "       '130 min', '94 min', '140 min', '135 min', '82 min', '70 min',\n",
       "       '121 min', '92 min', '164 min', '53 min', '83 min', '116 min',\n",
       "       '86 min', '120 min', '96 min', '126 min', '129 min', '77 min',\n",
       "       '137 min', '148 min', '28 min', '122 min', '176 min', '85 min',\n",
       "       '22 min', '68 min', '111 min', '29 min', '142 min', '168 min',\n",
       "       '21 min', '59 min', '20 min', '98 min', '108 min', '76 min',\n",
       "       '26 min', '156 min', '30 min', '57 min', '150 min', '133 min',\n",
       "       '115 min', '154 min', '127 min', '146 min', '136 min', '88 min',\n",
       "       '131 min', '24 min', '112 min', '74 min', '63 min', '38 min',\n",
       "       '25 min', '174 min', '60 min', '153 min', '158 min', '151 min',\n",
       "       '162 min', '54 min', '51 min', '69 min', '64 min', '147 min',\n",
       "       '42 min', '79 min', '5 Seasons', '40 min', '45 min', '172 min',\n",
       "       '10 min', '163 min', '9 Seasons', '55 min', '72 min', '61 min',\n",
       "       '71 min', '160 min', '171 min', '48 min', '139 min', '157 min',\n",
       "       '15 min', '65 min', '134 min', '161 min', '62 min', '8 Seasons',\n",
       "       '186 min', '49 min', '73 min', '58 min', '165 min', '166 min',\n",
       "       '138 min', '159 min', '141 min', '132 min', '52 min', '67 min',\n",
       "       '34 min', '66 min', '312 min', '180 min', '47 min', '6 Seasons',\n",
       "       '155 min', '14 min', '177 min', '11 min', '9 min', '46 min',\n",
       "       '145 min', '11 Seasons', '7 Seasons', '13 Seasons', '8 min',\n",
       "       '12 min', '12 Seasons', '10 Seasons', '43 min', '50 min', '23 min',\n",
       "       '185 min', '200 min', '169 min', '27 min', '170 min', '196 min',\n",
       "       '33 min', '181 min', '204 min', '32 min', '35 min', '167 min',\n",
       "       '16 Seasons', '179 min', '193 min', '13 min', '214 min', '17 min',\n",
       "       '173 min', '192 min', '209 min', '187 min', '41 min', '182 min',\n",
       "       '224 min', '233 min', '189 min', '152 min', '19 min', '15 Seasons',\n",
       "       '208 min', '237 min', '31 min', '178 min', '230 min', '194 min',\n",
       "       '228 min', '195 min', '3 min', '16 min', '5 min', '18 min',\n",
       "       '205 min', '190 min', '36 min', '201 min', '253 min', '203 min',\n",
       "       '191 min'], dtype=object)"
      ]
     },
     "execution_count": 86,
     "metadata": {},
     "output_type": "execute_result"
    }
   ],
   "source": [
    "Data['Duration'].unique()"
   ]
  },
  {
   "cell_type": "code",
   "execution_count": 87,
   "metadata": {},
   "outputs": [],
   "source": [
    "#Converting Object Dtyp into Numeric"
   ]
  },
  {
   "cell_type": "code",
   "execution_count": 88,
   "metadata": {},
   "outputs": [],
   "source": [
    "Data[['Minutes','Unit']]= Data['Duration'].str.split(' ',expand=True)"
   ]
  },
  {
   "cell_type": "code",
   "execution_count": 89,
   "metadata": {},
   "outputs": [
    {
     "data": {
      "text/html": [
       "<div>\n",
       "<style scoped>\n",
       "    .dataframe tbody tr th:only-of-type {\n",
       "        vertical-align: middle;\n",
       "    }\n",
       "\n",
       "    .dataframe tbody tr th {\n",
       "        vertical-align: top;\n",
       "    }\n",
       "\n",
       "    .dataframe thead th {\n",
       "        text-align: right;\n",
       "    }\n",
       "</style>\n",
       "<table border=\"1\" class=\"dataframe\">\n",
       "  <thead>\n",
       "    <tr style=\"text-align: right;\">\n",
       "      <th></th>\n",
       "      <th>Show_Id</th>\n",
       "      <th>Category</th>\n",
       "      <th>Title</th>\n",
       "      <th>Director</th>\n",
       "      <th>Cast</th>\n",
       "      <th>Country</th>\n",
       "      <th>Release_Date</th>\n",
       "      <th>Rating</th>\n",
       "      <th>Duration</th>\n",
       "      <th>Type</th>\n",
       "      <th>Description</th>\n",
       "      <th>Release Date</th>\n",
       "      <th>Year</th>\n",
       "      <th>Minutes</th>\n",
       "      <th>Unit</th>\n",
       "    </tr>\n",
       "  </thead>\n",
       "  <tbody>\n",
       "    <tr>\n",
       "      <td>0</td>\n",
       "      <td>s1</td>\n",
       "      <td>TV Show</td>\n",
       "      <td>3%</td>\n",
       "      <td>0</td>\n",
       "      <td>João Miguel, Bianca Comparato, Michel Gomes, R...</td>\n",
       "      <td>Brazil</td>\n",
       "      <td>August 14, 2020</td>\n",
       "      <td>TV-MA</td>\n",
       "      <td>4 Seasons</td>\n",
       "      <td>International TV Shows, TV Dramas, TV Sci-Fi &amp;...</td>\n",
       "      <td>In a future where the elite inhabit an island ...</td>\n",
       "      <td>2020-08-14</td>\n",
       "      <td>2020</td>\n",
       "      <td>4</td>\n",
       "      <td>Seasons</td>\n",
       "    </tr>\n",
       "  </tbody>\n",
       "</table>\n",
       "</div>"
      ],
      "text/plain": [
       "  Show_Id Category Title Director  \\\n",
       "0      s1  TV Show    3%        0   \n",
       "\n",
       "                                                Cast Country     Release_Date  \\\n",
       "0  João Miguel, Bianca Comparato, Michel Gomes, R...  Brazil  August 14, 2020   \n",
       "\n",
       "  Rating   Duration                                               Type  \\\n",
       "0  TV-MA  4 Seasons  International TV Shows, TV Dramas, TV Sci-Fi &...   \n",
       "\n",
       "                                         Description Release Date  Year  \\\n",
       "0  In a future where the elite inhabit an island ...   2020-08-14  2020   \n",
       "\n",
       "  Minutes     Unit  \n",
       "0       4  Seasons  "
      ]
     },
     "execution_count": 89,
     "metadata": {},
     "output_type": "execute_result"
    }
   ],
   "source": [
    "Data.head(1)"
   ]
  },
  {
   "cell_type": "code",
   "execution_count": 90,
   "metadata": {},
   "outputs": [],
   "source": [
    "Data.Minutes= Data.Minutes.astype(int) "
   ]
  },
  {
   "cell_type": "code",
   "execution_count": 91,
   "metadata": {},
   "outputs": [
    {
     "data": {
      "text/html": [
       "<div>\n",
       "<style scoped>\n",
       "    .dataframe tbody tr th:only-of-type {\n",
       "        vertical-align: middle;\n",
       "    }\n",
       "\n",
       "    .dataframe tbody tr th {\n",
       "        vertical-align: top;\n",
       "    }\n",
       "\n",
       "    .dataframe thead th {\n",
       "        text-align: right;\n",
       "    }\n",
       "</style>\n",
       "<table border=\"1\" class=\"dataframe\">\n",
       "  <thead>\n",
       "    <tr style=\"text-align: right;\">\n",
       "      <th></th>\n",
       "      <th>Minutes</th>\n",
       "      <th>Unit</th>\n",
       "    </tr>\n",
       "    <tr>\n",
       "      <th>Title</th>\n",
       "      <th></th>\n",
       "      <th></th>\n",
       "    </tr>\n",
       "  </thead>\n",
       "  <tbody>\n",
       "    <tr>\n",
       "      <td>Black Mirror: Bandersnatch</td>\n",
       "      <td>312</td>\n",
       "      <td>min</td>\n",
       "    </tr>\n",
       "    <tr>\n",
       "      <td>The School of Mischief</td>\n",
       "      <td>253</td>\n",
       "      <td>min</td>\n",
       "    </tr>\n",
       "    <tr>\n",
       "      <td>No Longer kids</td>\n",
       "      <td>237</td>\n",
       "      <td>min</td>\n",
       "    </tr>\n",
       "    <tr>\n",
       "      <td>Lock Your Girls In</td>\n",
       "      <td>233</td>\n",
       "      <td>min</td>\n",
       "    </tr>\n",
       "    <tr>\n",
       "      <td>Raya and Sakina</td>\n",
       "      <td>230</td>\n",
       "      <td>min</td>\n",
       "    </tr>\n",
       "    <tr>\n",
       "      <td>Sangam</td>\n",
       "      <td>228</td>\n",
       "      <td>min</td>\n",
       "    </tr>\n",
       "    <tr>\n",
       "      <td>Lagaan</td>\n",
       "      <td>224</td>\n",
       "      <td>min</td>\n",
       "    </tr>\n",
       "    <tr>\n",
       "      <td>Jodhaa Akbar</td>\n",
       "      <td>214</td>\n",
       "      <td>min</td>\n",
       "    </tr>\n",
       "    <tr>\n",
       "      <td>Kabhi Khushi Kabhie Gham</td>\n",
       "      <td>209</td>\n",
       "      <td>min</td>\n",
       "    </tr>\n",
       "    <tr>\n",
       "      <td>The Irishman</td>\n",
       "      <td>209</td>\n",
       "      <td>min</td>\n",
       "    </tr>\n",
       "  </tbody>\n",
       "</table>\n",
       "</div>"
      ],
      "text/plain": [
       "                            Minutes Unit\n",
       "Title                                   \n",
       "Black Mirror: Bandersnatch      312  min\n",
       "The School of Mischief          253  min\n",
       "No Longer kids                  237  min\n",
       "Lock Your Girls In              233  min\n",
       "Raya and Sakina                 230  min\n",
       "Sangam                          228  min\n",
       "Lagaan                          224  min\n",
       "Jodhaa Akbar                    214  min\n",
       "Kabhi Khushi Kabhie Gham        209  min\n",
       "The Irishman                    209  min"
      ]
     },
     "execution_count": 91,
     "metadata": {},
     "output_type": "execute_result"
    }
   ],
   "source": [
    "Top10=Data.nlargest(10,\"Minutes\")[[\"Minutes\",\"Unit\",\"Title\"]]\n",
    "Top10\n",
    "Top10.set_index(\"Title\")"
   ]
  },
  {
   "cell_type": "code",
   "execution_count": 92,
   "metadata": {},
   "outputs": [
    {
     "data": {
      "image/png": "[encoded data removed]",
      "text/plain": [
       "<Figure size 504x216 with 1 Axes>"
      ]
     },
     "metadata": {},
     "output_type": "display_data"
    }
   ],
   "source": [
    "plt.figure(figsize=(7,3))\n",
    "sns.barplot(x=\"Minutes\",y='Title',data=Top10)\n",
    "plt.title(\"10 Movies With Duration\",size=15,color='black')\n",
    "plt.show()"
   ]
  },
  {
   "cell_type": "code",
   "execution_count": 93,
   "metadata": {},
   "outputs": [
    {
     "data": {
      "text/html": [
       "<div>\n",
       "<style scoped>\n",
       "    .dataframe tbody tr th:only-of-type {\n",
       "        vertical-align: middle;\n",
       "    }\n",
       "\n",
       "    .dataframe tbody tr th {\n",
       "        vertical-align: top;\n",
       "    }\n",
       "\n",
       "    .dataframe thead th {\n",
       "        text-align: right;\n",
       "    }\n",
       "</style>\n",
       "<table border=\"1\" class=\"dataframe\">\n",
       "  <thead>\n",
       "    <tr style=\"text-align: right;\">\n",
       "      <th></th>\n",
       "      <th>Show_Id</th>\n",
       "      <th>Category</th>\n",
       "      <th>Title</th>\n",
       "      <th>Director</th>\n",
       "      <th>Cast</th>\n",
       "      <th>Country</th>\n",
       "      <th>Release_Date</th>\n",
       "      <th>Rating</th>\n",
       "      <th>Duration</th>\n",
       "      <th>Type</th>\n",
       "      <th>Description</th>\n",
       "      <th>Release Date</th>\n",
       "      <th>Year</th>\n",
       "      <th>Minutes</th>\n",
       "      <th>Unit</th>\n",
       "    </tr>\n",
       "  </thead>\n",
       "  <tbody>\n",
       "    <tr>\n",
       "      <td>0</td>\n",
       "      <td>s1</td>\n",
       "      <td>TV Show</td>\n",
       "      <td>3%</td>\n",
       "      <td>0</td>\n",
       "      <td>João Miguel, Bianca Comparato, Michel Gomes, R...</td>\n",
       "      <td>Brazil</td>\n",
       "      <td>August 14, 2020</td>\n",
       "      <td>TV-MA</td>\n",
       "      <td>4 Seasons</td>\n",
       "      <td>International TV Shows, TV Dramas, TV Sci-Fi &amp;...</td>\n",
       "      <td>In a future where the elite inhabit an island ...</td>\n",
       "      <td>2020-08-14</td>\n",
       "      <td>2020</td>\n",
       "      <td>4</td>\n",
       "      <td>Seasons</td>\n",
       "    </tr>\n",
       "    <tr>\n",
       "      <td>24</td>\n",
       "      <td>s25</td>\n",
       "      <td>TV Show</td>\n",
       "      <td>​SAINT SEIYA: Knights of the Zodiac</td>\n",
       "      <td>0</td>\n",
       "      <td>Bryson Baugus, Emily Neves, Blake Shepard, Pat...</td>\n",
       "      <td>Japan</td>\n",
       "      <td>January 23, 2020</td>\n",
       "      <td>TV-14</td>\n",
       "      <td>2 Seasons</td>\n",
       "      <td>Anime Series, International TV Shows</td>\n",
       "      <td>Seiya and the Knights of the Zodiac rise again...</td>\n",
       "      <td>2020-01-23</td>\n",
       "      <td>2020</td>\n",
       "      <td>2</td>\n",
       "      <td>Seasons</td>\n",
       "    </tr>\n",
       "    <tr>\n",
       "      <td>63</td>\n",
       "      <td>s64</td>\n",
       "      <td>TV Show</td>\n",
       "      <td>13 Reasons Why</td>\n",
       "      <td>0</td>\n",
       "      <td>Dylan Minnette, Katherine Langford, Kate Walsh...</td>\n",
       "      <td>United States</td>\n",
       "      <td>June 5, 2020</td>\n",
       "      <td>TV-MA</td>\n",
       "      <td>4 Seasons</td>\n",
       "      <td>Crime TV Shows, TV Dramas, TV Mysteries</td>\n",
       "      <td>After a teenage girl's perplexing suicide, a c...</td>\n",
       "      <td>2020-06-05</td>\n",
       "      <td>2020</td>\n",
       "      <td>4</td>\n",
       "      <td>Seasons</td>\n",
       "    </tr>\n",
       "    <tr>\n",
       "      <td>64</td>\n",
       "      <td>s65</td>\n",
       "      <td>TV Show</td>\n",
       "      <td>13 Reasons Why: Beyond the Reasons</td>\n",
       "      <td>0</td>\n",
       "      <td>Dylan Minnette, Katherine Langford, Kate Walsh...</td>\n",
       "      <td>United States</td>\n",
       "      <td>August 23, 2019</td>\n",
       "      <td>TV-MA</td>\n",
       "      <td>3 Seasons</td>\n",
       "      <td>Crime TV Shows, Docuseries</td>\n",
       "      <td>Cast members, writers, producers and mental he...</td>\n",
       "      <td>2019-08-23</td>\n",
       "      <td>2019</td>\n",
       "      <td>3</td>\n",
       "      <td>Seasons</td>\n",
       "    </tr>\n",
       "    <tr>\n",
       "      <td>108</td>\n",
       "      <td>s109</td>\n",
       "      <td>TV Show</td>\n",
       "      <td>3Below: Tales of Arcadia</td>\n",
       "      <td>0</td>\n",
       "      <td>Tatiana Maslany, Diego Luna, Nick Offerman, Ni...</td>\n",
       "      <td>United States</td>\n",
       "      <td>July 12, 2019</td>\n",
       "      <td>TV-Y7</td>\n",
       "      <td>2 Seasons</td>\n",
       "      <td>Kids' TV, TV Action &amp; Adventure, TV Sci-Fi &amp; F...</td>\n",
       "      <td>After crash-landing on Earth, two royal teen a...</td>\n",
       "      <td>2019-07-12</td>\n",
       "      <td>2019</td>\n",
       "      <td>2</td>\n",
       "      <td>Seasons</td>\n",
       "    </tr>\n",
       "    <tr>\n",
       "      <td>...</td>\n",
       "      <td>...</td>\n",
       "      <td>...</td>\n",
       "      <td>...</td>\n",
       "      <td>...</td>\n",
       "      <td>...</td>\n",
       "      <td>...</td>\n",
       "      <td>...</td>\n",
       "      <td>...</td>\n",
       "      <td>...</td>\n",
       "      <td>...</td>\n",
       "      <td>...</td>\n",
       "      <td>...</td>\n",
       "      <td>...</td>\n",
       "      <td>...</td>\n",
       "      <td>...</td>\n",
       "    </tr>\n",
       "    <tr>\n",
       "      <td>7755</td>\n",
       "      <td>s7754</td>\n",
       "      <td>TV Show</td>\n",
       "      <td>Yunus Emre</td>\n",
       "      <td>0</td>\n",
       "      <td>Gökhan Atalay, Payidar Tüfekçioglu, Baran Akbu...</td>\n",
       "      <td>Turkey</td>\n",
       "      <td>January 17, 2017</td>\n",
       "      <td>TV-PG</td>\n",
       "      <td>2 Seasons</td>\n",
       "      <td>International TV Shows, TV Dramas</td>\n",
       "      <td>During the Mongol invasions, Yunus Emre leaves...</td>\n",
       "      <td>2017-01-17</td>\n",
       "      <td>2017</td>\n",
       "      <td>2</td>\n",
       "      <td>Seasons</td>\n",
       "    </tr>\n",
       "    <tr>\n",
       "      <td>7757</td>\n",
       "      <td>s7756</td>\n",
       "      <td>TV Show</td>\n",
       "      <td>Z Nation</td>\n",
       "      <td>0</td>\n",
       "      <td>Nat Zang, Russell Hodgkinson, Michael Welch, A...</td>\n",
       "      <td>United States</td>\n",
       "      <td>January 27, 2019</td>\n",
       "      <td>TV-MA</td>\n",
       "      <td>5 Seasons</td>\n",
       "      <td>TV Action &amp; Adventure, TV Comedies, TV Horror</td>\n",
       "      <td>A team embarks on a perilous cross-country mis...</td>\n",
       "      <td>2019-01-27</td>\n",
       "      <td>2019</td>\n",
       "      <td>5</td>\n",
       "      <td>Seasons</td>\n",
       "    </tr>\n",
       "    <tr>\n",
       "      <td>7758</td>\n",
       "      <td>s7757</td>\n",
       "      <td>TV Show</td>\n",
       "      <td>Z4</td>\n",
       "      <td>0</td>\n",
       "      <td>Apollo Costa, Gabriel Santana, Matheus Lustosa...</td>\n",
       "      <td>Brazil</td>\n",
       "      <td>February 22, 2019</td>\n",
       "      <td>TV-PG</td>\n",
       "      <td>2 Seasons</td>\n",
       "      <td>Kids' TV</td>\n",
       "      <td>Fading music biz veteran Zé realizes he has ju...</td>\n",
       "      <td>2019-02-22</td>\n",
       "      <td>2019</td>\n",
       "      <td>2</td>\n",
       "      <td>Seasons</td>\n",
       "    </tr>\n",
       "    <tr>\n",
       "      <td>7761</td>\n",
       "      <td>s7760</td>\n",
       "      <td>TV Show</td>\n",
       "      <td>Zak Storm</td>\n",
       "      <td>0</td>\n",
       "      <td>Michael Johnston, Jessica Gee-George, Christin...</td>\n",
       "      <td>United States, France, South Korea, Indonesia</td>\n",
       "      <td>September 13, 2018</td>\n",
       "      <td>TV-Y7</td>\n",
       "      <td>3 Seasons</td>\n",
       "      <td>Kids' TV</td>\n",
       "      <td>Teen surfer Zak Storm is mysteriously transpor...</td>\n",
       "      <td>2018-09-13</td>\n",
       "      <td>2018</td>\n",
       "      <td>3</td>\n",
       "      <td>Seasons</td>\n",
       "    </tr>\n",
       "    <tr>\n",
       "      <td>7779</td>\n",
       "      <td>s7778</td>\n",
       "      <td>TV Show</td>\n",
       "      <td>Zombie Dumb</td>\n",
       "      <td>0</td>\n",
       "      <td>0</td>\n",
       "      <td>0</td>\n",
       "      <td>July 1, 2019</td>\n",
       "      <td>TV-Y7</td>\n",
       "      <td>2 Seasons</td>\n",
       "      <td>Kids' TV, Korean TV Shows, TV Comedies</td>\n",
       "      <td>While living alone in a spooky town, a young g...</td>\n",
       "      <td>2019-07-01</td>\n",
       "      <td>2019</td>\n",
       "      <td>2</td>\n",
       "      <td>Seasons</td>\n",
       "    </tr>\n",
       "  </tbody>\n",
       "</table>\n",
       "<p>802 rows × 15 columns</p>\n",
       "</div>"
      ],
      "text/plain": [
       "     Show_Id Category                                Title Director  \\\n",
       "0         s1  TV Show                                   3%        0   \n",
       "24       s25  TV Show  ​SAINT SEIYA: Knights of the Zodiac        0   \n",
       "63       s64  TV Show                       13 Reasons Why        0   \n",
       "64       s65  TV Show   13 Reasons Why: Beyond the Reasons        0   \n",
       "108     s109  TV Show             3Below: Tales of Arcadia        0   \n",
       "...      ...      ...                                  ...      ...   \n",
       "7755   s7754  TV Show                           Yunus Emre        0   \n",
       "7757   s7756  TV Show                             Z Nation        0   \n",
       "7758   s7757  TV Show                                   Z4        0   \n",
       "7761   s7760  TV Show                            Zak Storm        0   \n",
       "7779   s7778  TV Show                          Zombie Dumb        0   \n",
       "\n",
       "                                                   Cast  \\\n",
       "0     João Miguel, Bianca Comparato, Michel Gomes, R...   \n",
       "24    Bryson Baugus, Emily Neves, Blake Shepard, Pat...   \n",
       "63    Dylan Minnette, Katherine Langford, Kate Walsh...   \n",
       "64    Dylan Minnette, Katherine Langford, Kate Walsh...   \n",
       "108   Tatiana Maslany, Diego Luna, Nick Offerman, Ni...   \n",
       "...                                                 ...   \n",
       "7755  Gökhan Atalay, Payidar Tüfekçioglu, Baran Akbu...   \n",
       "7757  Nat Zang, Russell Hodgkinson, Michael Welch, A...   \n",
       "7758  Apollo Costa, Gabriel Santana, Matheus Lustosa...   \n",
       "7761  Michael Johnston, Jessica Gee-George, Christin...   \n",
       "7779                                                  0   \n",
       "\n",
       "                                            Country        Release_Date  \\\n",
       "0                                            Brazil     August 14, 2020   \n",
       "24                                            Japan    January 23, 2020   \n",
       "63                                    United States        June 5, 2020   \n",
       "64                                    United States     August 23, 2019   \n",
       "108                                   United States       July 12, 2019   \n",
       "...                                             ...                 ...   \n",
       "7755                                         Turkey    January 17, 2017   \n",
       "7757                                  United States    January 27, 2019   \n",
       "7758                                         Brazil   February 22, 2019   \n",
       "7761  United States, France, South Korea, Indonesia  September 13, 2018   \n",
       "7779                                              0        July 1, 2019   \n",
       "\n",
       "     Rating   Duration                                               Type  \\\n",
       "0     TV-MA  4 Seasons  International TV Shows, TV Dramas, TV Sci-Fi &...   \n",
       "24    TV-14  2 Seasons               Anime Series, International TV Shows   \n",
       "63    TV-MA  4 Seasons            Crime TV Shows, TV Dramas, TV Mysteries   \n",
       "64    TV-MA  3 Seasons                         Crime TV Shows, Docuseries   \n",
       "108   TV-Y7  2 Seasons  Kids' TV, TV Action & Adventure, TV Sci-Fi & F...   \n",
       "...     ...        ...                                                ...   \n",
       "7755  TV-PG  2 Seasons                  International TV Shows, TV Dramas   \n",
       "7757  TV-MA  5 Seasons      TV Action & Adventure, TV Comedies, TV Horror   \n",
       "7758  TV-PG  2 Seasons                                           Kids' TV   \n",
       "7761  TV-Y7  3 Seasons                                           Kids' TV   \n",
       "7779  TV-Y7  2 Seasons             Kids' TV, Korean TV Shows, TV Comedies   \n",
       "\n",
       "                                            Description Release Date  Year  \\\n",
       "0     In a future where the elite inhabit an island ...   2020-08-14  2020   \n",
       "24    Seiya and the Knights of the Zodiac rise again...   2020-01-23  2020   \n",
       "63    After a teenage girl's perplexing suicide, a c...   2020-06-05  2020   \n",
       "64    Cast members, writers, producers and mental he...   2019-08-23  2019   \n",
       "108   After crash-landing on Earth, two royal teen a...   2019-07-12  2019   \n",
       "...                                                 ...          ...   ...   \n",
       "7755  During the Mongol invasions, Yunus Emre leaves...   2017-01-17  2017   \n",
       "7757  A team embarks on a perilous cross-country mis...   2019-01-27  2019   \n",
       "7758  Fading music biz veteran Zé realizes he has ju...   2019-02-22  2019   \n",
       "7761  Teen surfer Zak Storm is mysteriously transpor...   2018-09-13  2018   \n",
       "7779  While living alone in a spooky town, a young g...   2019-07-01  2019   \n",
       "\n",
       "      Minutes     Unit  \n",
       "0           4  Seasons  \n",
       "24          2  Seasons  \n",
       "63          4  Seasons  \n",
       "64          3  Seasons  \n",
       "108         2  Seasons  \n",
       "...       ...      ...  \n",
       "7755        2  Seasons  \n",
       "7757        5  Seasons  \n",
       "7758        2  Seasons  \n",
       "7761        3  Seasons  \n",
       "7779        2  Seasons  \n",
       "\n",
       "[802 rows x 15 columns]"
      ]
     },
     "execution_count": 93,
     "metadata": {},
     "output_type": "execute_result"
    }
   ],
   "source": [
    "Season=Data[Data['Unit'] =='Seasons']\n",
    "Season"
   ]
  },
  {
   "cell_type": "code",
   "execution_count": 94,
   "metadata": {},
   "outputs": [
    {
     "data": {
      "text/html": [
       "<div>\n",
       "<style scoped>\n",
       "    .dataframe tbody tr th:only-of-type {\n",
       "        vertical-align: middle;\n",
       "    }\n",
       "\n",
       "    .dataframe tbody tr th {\n",
       "        vertical-align: top;\n",
       "    }\n",
       "\n",
       "    .dataframe thead th {\n",
       "        text-align: right;\n",
       "    }\n",
       "</style>\n",
       "<table border=\"1\" class=\"dataframe\">\n",
       "  <thead>\n",
       "    <tr style=\"text-align: right;\">\n",
       "      <th></th>\n",
       "      <th>Show_Id</th>\n",
       "      <th>Category</th>\n",
       "      <th>Title</th>\n",
       "      <th>Director</th>\n",
       "      <th>Cast</th>\n",
       "      <th>Country</th>\n",
       "      <th>Release_Date</th>\n",
       "      <th>Rating</th>\n",
       "      <th>Duration</th>\n",
       "      <th>Type</th>\n",
       "      <th>Description</th>\n",
       "      <th>Release Date</th>\n",
       "      <th>Year</th>\n",
       "      <th>Minutes</th>\n",
       "      <th>Unit</th>\n",
       "    </tr>\n",
       "  </thead>\n",
       "  <tbody>\n",
       "    <tr>\n",
       "      <td>2538</td>\n",
       "      <td>s2539</td>\n",
       "      <td>TV Show</td>\n",
       "      <td>Grey's Anatomy</td>\n",
       "      <td>0</td>\n",
       "      <td>Ellen Pompeo, Sandra Oh, Katherine Heigl, Just...</td>\n",
       "      <td>United States</td>\n",
       "      <td>May 9, 2020</td>\n",
       "      <td>TV-14</td>\n",
       "      <td>16 Seasons</td>\n",
       "      <td>Romantic TV Shows, TV Dramas</td>\n",
       "      <td>Intern (and eventual resident) Meredith Grey f...</td>\n",
       "      <td>2020-05-09</td>\n",
       "      <td>2020</td>\n",
       "      <td>16</td>\n",
       "      <td>Seasons</td>\n",
       "    </tr>\n",
       "    <tr>\n",
       "      <td>5913</td>\n",
       "      <td>s5913</td>\n",
       "      <td>TV Show</td>\n",
       "      <td>Supernatural</td>\n",
       "      <td>Phil Sgriccia</td>\n",
       "      <td>Jared Padalecki, Jensen Ackles, Mark Sheppard,...</td>\n",
       "      <td>United States, Canada</td>\n",
       "      <td>June 5, 2020</td>\n",
       "      <td>TV-14</td>\n",
       "      <td>15 Seasons</td>\n",
       "      <td>Classic &amp; Cult TV, TV Action &amp; Adventure, TV H...</td>\n",
       "      <td>Siblings Dean and Sam crisscross the country, ...</td>\n",
       "      <td>2020-06-05</td>\n",
       "      <td>2020</td>\n",
       "      <td>15</td>\n",
       "      <td>Seasons</td>\n",
       "    </tr>\n",
       "    <tr>\n",
       "      <td>4438</td>\n",
       "      <td>s4439</td>\n",
       "      <td>TV Show</td>\n",
       "      <td>NCIS</td>\n",
       "      <td>0</td>\n",
       "      <td>Mark Harmon, Michael Weatherly, Pauley Perrett...</td>\n",
       "      <td>United States</td>\n",
       "      <td>July 1, 2018</td>\n",
       "      <td>TV-14</td>\n",
       "      <td>15 Seasons</td>\n",
       "      <td>Crime TV Shows, TV Dramas, TV Mysteries</td>\n",
       "      <td>Follow the quirky agents of the NCIS – the Nav...</td>\n",
       "      <td>2018-07-01</td>\n",
       "      <td>2018</td>\n",
       "      <td>15</td>\n",
       "      <td>Seasons</td>\n",
       "    </tr>\n",
       "    <tr>\n",
       "      <td>1471</td>\n",
       "      <td>s1472</td>\n",
       "      <td>TV Show</td>\n",
       "      <td>COMEDIANS of the world</td>\n",
       "      <td>0</td>\n",
       "      <td>Neal Brennan, Chris D'Elia, Nicole Byer, Nick ...</td>\n",
       "      <td>United States</td>\n",
       "      <td>January 1, 2019</td>\n",
       "      <td>TV-MA</td>\n",
       "      <td>13 Seasons</td>\n",
       "      <td>Stand-Up Comedy &amp; Talk Shows, TV Comedies</td>\n",
       "      <td>This global stand-up comedy series features a ...</td>\n",
       "      <td>2019-01-01</td>\n",
       "      <td>2019</td>\n",
       "      <td>13</td>\n",
       "      <td>Seasons</td>\n",
       "    </tr>\n",
       "    <tr>\n",
       "      <td>5138</td>\n",
       "      <td>s5138</td>\n",
       "      <td>TV Show</td>\n",
       "      <td>Red vs. Blue</td>\n",
       "      <td>0</td>\n",
       "      <td>Burnie Burns, Jason Saldaña, Gustavo Sorola, G...</td>\n",
       "      <td>United States</td>\n",
       "      <td>0</td>\n",
       "      <td>NR</td>\n",
       "      <td>13 Seasons</td>\n",
       "      <td>TV Action &amp; Adventure, TV Comedies, TV Sci-Fi ...</td>\n",
       "      <td>This parody of first-person shooter games, mil...</td>\n",
       "      <td>1970-01-01</td>\n",
       "      <td>1970</td>\n",
       "      <td>13</td>\n",
       "      <td>Seasons</td>\n",
       "    </tr>\n",
       "    <tr>\n",
       "      <td>1537</td>\n",
       "      <td>s1538</td>\n",
       "      <td>TV Show</td>\n",
       "      <td>Criminal Minds</td>\n",
       "      <td>0</td>\n",
       "      <td>Mandy Patinkin, Joe Mantegna, Thomas Gibson, S...</td>\n",
       "      <td>United States, Canada</td>\n",
       "      <td>June 30, 2017</td>\n",
       "      <td>TV-14</td>\n",
       "      <td>12 Seasons</td>\n",
       "      <td>Crime TV Shows, TV Dramas, TV Mysteries</td>\n",
       "      <td>This intense police procedural follows a group...</td>\n",
       "      <td>2017-06-30</td>\n",
       "      <td>2017</td>\n",
       "      <td>12</td>\n",
       "      <td>Seasons</td>\n",
       "    </tr>\n",
       "    <tr>\n",
       "      <td>7171</td>\n",
       "      <td>s7170</td>\n",
       "      <td>TV Show</td>\n",
       "      <td>Trailer Park Boys</td>\n",
       "      <td>0</td>\n",
       "      <td>Mike Smith, John Paul Tremblay, Robb Wells, Jo...</td>\n",
       "      <td>Canada</td>\n",
       "      <td>March 30, 2018</td>\n",
       "      <td>TV-MA</td>\n",
       "      <td>12 Seasons</td>\n",
       "      <td>Classic &amp; Cult TV, Crime TV Shows, Internation...</td>\n",
       "      <td>Follow the booze-fueled misadventures of three...</td>\n",
       "      <td>2018-03-30</td>\n",
       "      <td>2018</td>\n",
       "      <td>12</td>\n",
       "      <td>Seasons</td>\n",
       "    </tr>\n",
       "    <tr>\n",
       "      <td>2263</td>\n",
       "      <td>s2264</td>\n",
       "      <td>TV Show</td>\n",
       "      <td>Frasier</td>\n",
       "      <td>0</td>\n",
       "      <td>Kelsey Grammer, Jane Leeves, David Hyde Pierce...</td>\n",
       "      <td>United States</td>\n",
       "      <td>0</td>\n",
       "      <td>TV-PG</td>\n",
       "      <td>11 Seasons</td>\n",
       "      <td>Classic &amp; Cult TV, TV Comedies</td>\n",
       "      <td>Frasier Crane is a snooty but lovable Seattle ...</td>\n",
       "      <td>1970-01-01</td>\n",
       "      <td>1970</td>\n",
       "      <td>11</td>\n",
       "      <td>Seasons</td>\n",
       "    </tr>\n",
       "    <tr>\n",
       "      <td>1300</td>\n",
       "      <td>s1301</td>\n",
       "      <td>TV Show</td>\n",
       "      <td>Cheers</td>\n",
       "      <td>0</td>\n",
       "      <td>Ted Danson, Rhea Perlman, George Wendt, John R...</td>\n",
       "      <td>United States</td>\n",
       "      <td>July 1, 2017</td>\n",
       "      <td>TV-PG</td>\n",
       "      <td>11 Seasons</td>\n",
       "      <td>Classic &amp; Cult TV, TV Comedies</td>\n",
       "      <td>Sam Malone, an ex-baseball player turned bar o...</td>\n",
       "      <td>2017-07-01</td>\n",
       "      <td>2017</td>\n",
       "      <td>11</td>\n",
       "      <td>Seasons</td>\n",
       "    </tr>\n",
       "    <tr>\n",
       "      <td>2678</td>\n",
       "      <td>s2679</td>\n",
       "      <td>TV Show</td>\n",
       "      <td>Heartland</td>\n",
       "      <td>0</td>\n",
       "      <td>Amber Marshall, Michelle Morgan, Graham Wardle...</td>\n",
       "      <td>Canada</td>\n",
       "      <td>August 1, 2019</td>\n",
       "      <td>TV-14</td>\n",
       "      <td>11 Seasons</td>\n",
       "      <td>TV Dramas</td>\n",
       "      <td>Spunky teenager Amy is reeling from the sudden...</td>\n",
       "      <td>2019-08-01</td>\n",
       "      <td>2019</td>\n",
       "      <td>11</td>\n",
       "      <td>Seasons</td>\n",
       "    </tr>\n",
       "  </tbody>\n",
       "</table>\n",
       "</div>"
      ],
      "text/plain": [
       "     Show_Id Category                   Title       Director  \\\n",
       "2538   s2539  TV Show          Grey's Anatomy              0   \n",
       "5913   s5913  TV Show            Supernatural  Phil Sgriccia   \n",
       "4438   s4439  TV Show                    NCIS              0   \n",
       "1471   s1472  TV Show  COMEDIANS of the world              0   \n",
       "5138   s5138  TV Show            Red vs. Blue              0   \n",
       "1537   s1538  TV Show          Criminal Minds              0   \n",
       "7171   s7170  TV Show       Trailer Park Boys              0   \n",
       "2263   s2264  TV Show                 Frasier              0   \n",
       "1300   s1301  TV Show                  Cheers              0   \n",
       "2678   s2679  TV Show               Heartland              0   \n",
       "\n",
       "                                                   Cast  \\\n",
       "2538  Ellen Pompeo, Sandra Oh, Katherine Heigl, Just...   \n",
       "5913  Jared Padalecki, Jensen Ackles, Mark Sheppard,...   \n",
       "4438  Mark Harmon, Michael Weatherly, Pauley Perrett...   \n",
       "1471  Neal Brennan, Chris D'Elia, Nicole Byer, Nick ...   \n",
       "5138  Burnie Burns, Jason Saldaña, Gustavo Sorola, G...   \n",
       "1537  Mandy Patinkin, Joe Mantegna, Thomas Gibson, S...   \n",
       "7171  Mike Smith, John Paul Tremblay, Robb Wells, Jo...   \n",
       "2263  Kelsey Grammer, Jane Leeves, David Hyde Pierce...   \n",
       "1300  Ted Danson, Rhea Perlman, George Wendt, John R...   \n",
       "2678  Amber Marshall, Michelle Morgan, Graham Wardle...   \n",
       "\n",
       "                    Country     Release_Date Rating    Duration  \\\n",
       "2538          United States      May 9, 2020  TV-14  16 Seasons   \n",
       "5913  United States, Canada     June 5, 2020  TV-14  15 Seasons   \n",
       "4438          United States     July 1, 2018  TV-14  15 Seasons   \n",
       "1471          United States  January 1, 2019  TV-MA  13 Seasons   \n",
       "5138          United States                0     NR  13 Seasons   \n",
       "1537  United States, Canada    June 30, 2017  TV-14  12 Seasons   \n",
       "7171                 Canada   March 30, 2018  TV-MA  12 Seasons   \n",
       "2263          United States                0  TV-PG  11 Seasons   \n",
       "1300          United States     July 1, 2017  TV-PG  11 Seasons   \n",
       "2678                 Canada   August 1, 2019  TV-14  11 Seasons   \n",
       "\n",
       "                                                   Type  \\\n",
       "2538                       Romantic TV Shows, TV Dramas   \n",
       "5913  Classic & Cult TV, TV Action & Adventure, TV H...   \n",
       "4438            Crime TV Shows, TV Dramas, TV Mysteries   \n",
       "1471          Stand-Up Comedy & Talk Shows, TV Comedies   \n",
       "5138  TV Action & Adventure, TV Comedies, TV Sci-Fi ...   \n",
       "1537            Crime TV Shows, TV Dramas, TV Mysteries   \n",
       "7171  Classic & Cult TV, Crime TV Shows, Internation...   \n",
       "2263                     Classic & Cult TV, TV Comedies   \n",
       "1300                     Classic & Cult TV, TV Comedies   \n",
       "2678                                          TV Dramas   \n",
       "\n",
       "                                            Description Release Date  Year  \\\n",
       "2538  Intern (and eventual resident) Meredith Grey f...   2020-05-09  2020   \n",
       "5913  Siblings Dean and Sam crisscross the country, ...   2020-06-05  2020   \n",
       "4438  Follow the quirky agents of the NCIS – the Nav...   2018-07-01  2018   \n",
       "1471  This global stand-up comedy series features a ...   2019-01-01  2019   \n",
       "5138  This parody of first-person shooter games, mil...   1970-01-01  1970   \n",
       "1537  This intense police procedural follows a group...   2017-06-30  2017   \n",
       "7171  Follow the booze-fueled misadventures of three...   2018-03-30  2018   \n",
       "2263  Frasier Crane is a snooty but lovable Seattle ...   1970-01-01  1970   \n",
       "1300  Sam Malone, an ex-baseball player turned bar o...   2017-07-01  2017   \n",
       "2678  Spunky teenager Amy is reeling from the sudden...   2019-08-01  2019   \n",
       "\n",
       "      Minutes     Unit  \n",
       "2538       16  Seasons  \n",
       "5913       15  Seasons  \n",
       "4438       15  Seasons  \n",
       "1471       13  Seasons  \n",
       "5138       13  Seasons  \n",
       "1537       12  Seasons  \n",
       "7171       12  Seasons  \n",
       "2263       11  Seasons  \n",
       "1300       11  Seasons  \n",
       "2678       11  Seasons  "
      ]
     },
     "execution_count": 94,
     "metadata": {},
     "output_type": "execute_result"
    }
   ],
   "source": [
    "Top10_Season=Season.sort_values(by=\"Minutes\", ascending= False).head(10)\n",
    "Top10_Season"
   ]
  },
  {
   "cell_type": "code",
   "execution_count": 95,
   "metadata": {},
   "outputs": [
    {
     "data": {
      "image/png": "[encoded data removed]",
      "text/plain": [
       "<Figure size 504x216 with 1 Axes>"
      ]
     },
     "metadata": {},
     "output_type": "display_data"
    }
   ],
   "source": [
    "plt.figure(figsize=(7,3))\n",
    "sns.barplot(x=\"Minutes\",y='Title',data=Top10_Season)\n",
    "plt.xlabel(\"Season\")\n",
    "plt.title(\"10 TV Shows With Season Number\",size=15,color='black')\n",
    "plt.show()"
   ]
  },
  {
   "cell_type": "code",
   "execution_count": 96,
   "metadata": {},
   "outputs": [],
   "source": [
    "#Country with Highest TV Shows"
   ]
  },
  {
   "cell_type": "code",
   "execution_count": 97,
   "metadata": {},
   "outputs": [],
   "source": [
    "Show=Data[Data['Category'] =='TV Show']"
   ]
  },
  {
   "cell_type": "code",
   "execution_count": 98,
   "metadata": {},
   "outputs": [
    {
     "data": {
      "text/plain": [
       "United States                          705\n",
       "0                                      277\n",
       "United Kingdom                         204\n",
       "Japan                                  157\n",
       "South Korea                            147\n",
       "                                      ... \n",
       "France, Germany                          1\n",
       "United States, Mexico, Spain, Malta      1\n",
       "Germany, France, Russia                  1\n",
       "Norway, United States                    1\n",
       "United States, Poland                    1\n",
       "Name: Country, Length: 184, dtype: int64"
      ]
     },
     "execution_count": 98,
     "metadata": {},
     "output_type": "execute_result"
    }
   ],
   "source": [
    "Show.Country.value_counts()"
   ]
  },
  {
   "cell_type": "code",
   "execution_count": 99,
   "metadata": {},
   "outputs": [
    {
     "data": {
      "text/plain": [
       "United States    705\n",
       "Name: Country, dtype: int64"
      ]
     },
     "execution_count": 99,
     "metadata": {},
     "output_type": "execute_result"
    }
   ],
   "source": [
    "Show.Country.value_counts().head(1)"
   ]
  },
  {
   "cell_type": "code",
   "execution_count": 100,
   "metadata": {},
   "outputs": [],
   "source": [
    "#  Movies and TV Shows in each country that were released"
   ]
  },
  {
   "cell_type": "code",
   "execution_count": 101,
   "metadata": {},
   "outputs": [
    {
     "data": {
      "image/png": "[encoded data removed]",
      "text/plain": [
       "<Figure size 432x288 with 1 Axes>"
      ]
     },
     "metadata": {},
     "output_type": "display_data"
    }
   ],
   "source": [
    "Data['Country'].value_counts().head(15).plot(kind='barh', color=['green', 'red'])\n",
    "plt.title('Number of Movies and TV Shows in each country')\n",
    "plt.xlabel('Count')\n",
    "plt.ylabel('Country')\n",
    "plt.show()"
   ]
  },
  {
   "cell_type": "code",
   "execution_count": 102,
   "metadata": {},
   "outputs": [
    {
     "data": {
      "text/plain": [
       "0                         2388\n",
       "Raúl Campos, Jan Suter      18\n",
       "Marcus Raboy                16\n",
       "Jay Karas                   14\n",
       "Cathy Garcia-Molina         13\n",
       "Jay Chapman                 12\n",
       "Martin Scorsese             12\n",
       "Youssef Chahine             12\n",
       "Steven Spielberg            10\n",
       "David Dhawan                 9\n",
       "Name: Director, dtype: int64"
      ]
     },
     "execution_count": 102,
     "metadata": {},
     "output_type": "execute_result"
    }
   ],
   "source": [
    "# 10 Director names With How Many Movies Released\n",
    "Director=Data['Director'].value_counts().head(10)\n",
    "Director"
   ]
  },
  {
   "cell_type": "code",
   "execution_count": 103,
   "metadata": {},
   "outputs": [
    {
     "data": {
      "image/png": "[encoded data removed]",
      "text/plain": [
       "<Figure size 720x360 with 1 Axes>"
      ]
     },
     "metadata": {},
     "output_type": "display_data"
    }
   ],
   "source": [
    "#Top10 Most Popular Directors\n",
    "plt.figure(figsize=(10, 5))\n",
    "sns.countplot(Data['Director'].value_counts().head(10))\n",
    "plt.title('Top10 Most Popular Directors')\n",
    "plt.xticks(rotation=90)\n",
    "plt.xticks(ticks=range(10), labels=Data['Director'].value_counts().head(10).index)\n",
    "plt.show()"
   ]
  },
  {
   "cell_type": "code",
   "execution_count": 104,
   "metadata": {},
   "outputs": [
    {
     "data": {
      "text/plain": [
       "0                                                                                                                         718\n",
       "David Attenborough                                                                                                         18\n",
       "Samuel West                                                                                                                10\n",
       "Jeff Dunham                                                                                                                 7\n",
       "Kevin Hart                                                                                                                  6\n",
       "Craig Sechler                                                                                                               6\n",
       "Michela Luci, Jamie Watson, Eric Peterson, Anna Claire Bartlam, Nicolas Aqui, Cory Doran, Julie Lemieux, Derek McGrath      6\n",
       "Iliza Shlesinger                                                                                                            5\n",
       "Bill Burr                                                                                                                   5\n",
       "Jim Gaffigan                                                                                                                5\n",
       "Name: Cast, dtype: int64"
      ]
     },
     "execution_count": 104,
     "metadata": {},
     "output_type": "execute_result"
    }
   ],
   "source": [
    "#  Finding Popular Cast\n",
    "Data['Cast'].value_counts().head(10)"
   ]
  },
  {
   "cell_type": "code",
   "execution_count": 105,
   "metadata": {},
   "outputs": [
    {
     "data": {
      "image/png": "[encoded data removed]",
      "text/plain": [
       "<Figure size 720x360 with 1 Axes>"
      ]
     },
     "metadata": {},
     "output_type": "display_data"
    }
   ],
   "source": [
    "plt.figure(figsize=(10,5))\n",
    "sns.countplot(Data['Cast'].value_counts().head(10))\n",
    "plt.title('Top 10 most popular cast')\n",
    "plt.xticks(rotation=90)\n",
    "plt.xticks(ticks=range(10), labels=Data['Cast'].value_counts().head(10).index)\n",
    "plt.show()"
   ]
  },
  {
   "cell_type": "code",
   "execution_count": null,
   "metadata": {},
   "outputs": [],
   "source": []
  }
 ],
 "metadata": {
  "kernelspec": {
   "display_name": "Python 3",
   "language": "python",
   "name": "python3"
  },
  "language_info": {
   "codemirror_mode": {
    "name": "ipython",
    "version": 3
   },
   "file_extension": ".py",
   "mimetype": "text/x-python",
   "name": "python",
   "nbconvert_exporter": "python",
   "pygments_lexer": "ipython3",
   "version": "3.7.4"
  }
 },
 "nbformat": 4,
 "nbformat_minor": 2
}
